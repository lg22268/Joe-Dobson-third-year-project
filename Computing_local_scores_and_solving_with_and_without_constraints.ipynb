{
 "cells": [
  {
   "cell_type": "markdown",
   "metadata": {},
   "source": [
    "We start, as normal, by creating a `Gobnilp` object to work with:"
   ]
  },
  {
   "cell_type": "code",
   "execution_count": 1,
   "metadata": {},
   "outputs": [
    {
     "name": "stdout",
     "output_type": "stream",
     "text": [
      "Using license file /home/james/gurobi.lic\n",
      "Academic license - for non-commercial use only\n"
     ]
    }
   ],
   "source": [
    "from pygobnilp.gobnilp import Gobnilp\n",
    "m = Gobnilp()"
   ]
  },
  {
   "cell_type": "markdown",
   "metadata": {},
   "source": [
    "Now we will create and store 'local scores' from the built-in `alarm_10000.dat` dataset:"
   ]
  },
  {
   "cell_type": "code",
   "execution_count": 2,
   "metadata": {},
   "outputs": [],
   "source": [
    "m.learn('alarm_10000.dat',end='local scores')"
   ]
  },
  {
   "cell_type": "markdown",
   "metadata": {},
   "source": [
    "Note that, since we have stated that learning should `end` after local scores have been computed and stored, a BN is not learned. The computation of these local scores is not immediate, but should not take too long. Since no local score function was specified and no data type specified either, the data will be assumed to be discrete and a BDeu score will be used. \n",
    "\n",
    "The local scores are saved in a dictionary which is the `local_scores` attribute of the `Gobnilp` object. The keys of this dictionary are the BN variables (the names of these variables are given on the first line of `alarm_10000.dat`). "
   ]
  },
  {
   "cell_type": "code",
   "execution_count": 3,
   "metadata": {},
   "outputs": [
    {
     "name": "stdout",
     "output_type": "stream",
     "text": [
      "dict_keys(['ANAPHYLAXIS', 'ARTCO2', 'BP', 'CATECHOL', 'CO', 'CVP', 'DISCONNECT', 'ERRCAUTER', 'ERRLOWOUTPUT', 'EXPCO2', 'FIO2', 'HISTORY', 'HR', 'HRBP', 'HREKG', 'HRSAT', 'HYPOVOLEMIA', 'INSUFFANESTH', 'INTUBATION', 'KINKEDTUBE', 'LVEDVOLUME', 'LVFAILURE', 'MINVOL', 'MINVOLSET', 'PAP', 'PCWP', 'PRESS', 'PULMEMBOLUS', 'PVSAT', 'SAO2', 'SHUNT', 'STROKEVOLUME', 'TPR', 'VENTALV', 'VENTLUNG', 'VENTMACH', 'VENTTUBE'])\n"
     ]
    }
   ],
   "source": [
    "print(m.local_scores.keys())"
   ]
  },
  {
   "cell_type": "markdown",
   "metadata": {},
   "source": [
    "The value associated with each BN variable is a dictionary mapping potential parent sets for that variable to a local score - which states, intuitively, how good it would be for that parent set to be selected. We find that there is variation in the number of parent sets stored:"
   ]
  },
  {
   "cell_type": "code",
   "execution_count": 4,
   "metadata": {},
   "outputs": [
    {
     "name": "stdout",
     "output_type": "stream",
     "text": [
      "ANAPHYLAXIS 5\n",
      "ARTCO2 473\n",
      "BP 266\n",
      "CATECHOL 383\n",
      "CO 469\n",
      "CVP 32\n",
      "DISCONNECT 127\n",
      "ERRCAUTER 22\n",
      "ERRLOWOUTPUT 14\n",
      "EXPCO2 176\n",
      "FIO2 18\n",
      "HISTORY 36\n",
      "HR 154\n",
      "HRBP 135\n",
      "HREKG 122\n",
      "HRSAT 122\n",
      "HYPOVOLEMIA 57\n",
      "INSUFFANESTH 1\n",
      "INTUBATION 211\n",
      "KINKEDTUBE 41\n",
      "LVEDVOLUME 64\n",
      "LVFAILURE 84\n",
      "MINVOL 371\n",
      "MINVOLSET 96\n",
      "PAP 3\n",
      "PCWP 43\n",
      "PRESS 212\n",
      "PULMEMBOLUS 10\n",
      "PVSAT 440\n",
      "SAO2 471\n",
      "SHUNT 162\n",
      "STROKEVOLUME 109\n",
      "TPR 173\n",
      "VENTALV 472\n",
      "VENTLUNG 448\n",
      "VENTMACH 134\n",
      "VENTTUBE 317\n"
     ]
    }
   ],
   "source": [
    "for child, scored_parentsets in m.local_scores.items():\n",
    "    print(child, len(scored_parentsets))"
   ]
  },
  {
   "cell_type": "markdown",
   "metadata": {},
   "source": [
    "ANAPHYLAXIS has a mere 5 parent sets whereas ARTCO2 has 473! This is because `Gobnilp` is using *pruning*. If a variable $X$ has potential parent set $S$ which is a superset of another potential parent set $T$ which has a higher score then $S$ is 'pruned' away. This is because, assuming we do not have any special constraints on allowed BNs, we can never have an optimal BN where $S$ is a parent set, since we could always replace $S$ with $T$ and get a higher scoring BN *without creating a cycle, since we would remove arrows*.\n",
    "\n",
    "It just so happens that more parent sets were pruned for ANAPHYLAXIS than ARTCO2. Let's look at the scored parent sets for ANAPHYLAXIS:"
   ]
  },
  {
   "cell_type": "code",
   "execution_count": 5,
   "metadata": {},
   "outputs": [
    {
     "name": "stdout",
     "output_type": "stream",
     "text": [
      "frozenset() -578.587070487134\n",
      "frozenset({'BP'}) -523.5582005530596\n",
      "frozenset({'CATECHOL'}) -577.4536694321869\n",
      "frozenset({'TPR'}) -471.48556937259855\n",
      "frozenset({'BP', 'HYPOVOLEMIA'}) -518.1711042499956\n"
     ]
    }
   ],
   "source": [
    "for parentset, score in m.local_scores['ANAPHYLAXIS'].items():\n",
    "    print(parentset, score)"
   ]
  },
  {
   "cell_type": "markdown",
   "metadata": {},
   "source": [
    "The empty set has the worst score of the 5 - if any of the non-empty parent set had a worse score it would be pruned.\n",
    "\n",
    "Each local score will be eventually be associated with a Gurobi MIP variable called a *family variable* (since it is associated with a 'child' variable and a parent set). The fewer of these family variables the better since the MIP will be smaller and thus easier for Gurobi to solve. If we have prior knowledge then this can \n",
    "1. reduce the number of local scores, and\n",
    "2. reduce the time required to compute the local scores\n",
    "\n",
    "To provide an example of how prior knowledge can help, let's see how often variables occur in the potential parent sets for ARTCO2:"
   ]
  },
  {
   "cell_type": "code",
   "execution_count": 6,
   "metadata": {},
   "outputs": [
    {
     "name": "stdout",
     "output_type": "stream",
     "text": [
      "Counter({'EXPCO2': 101, 'SHUNT': 98, 'INTUBATION': 93, 'DISCONNECT': 91, 'CATECHOL': 85, 'KINKEDTUBE': 75, 'MINVOLSET': 72, 'VENTMACH': 62, 'PRESS': 60, 'SAO2': 56, 'VENTLUNG': 50, 'VENTTUBE': 50, 'HR': 49, 'HREKG': 42, 'HRSAT': 42, 'HRBP': 41, 'TPR': 40, 'PVSAT': 37, 'MINVOL': 31, 'CO': 25, 'FIO2': 12, 'BP': 7, 'VENTALV': 5, 'STROKEVOLUME': 1})\n"
     ]
    }
   ],
   "source": [
    "from collections import Counter\n",
    "d = Counter()\n",
    "for parent_set in m.local_scores['ARTCO2']:\n",
    "    for v in parent_set:\n",
    "        d[v] += 1\n",
    "print(d)    "
   ]
  },
  {
   "cell_type": "markdown",
   "metadata": {},
   "source": [
    "So, for example KINKEDTUBE occurs in 75 parent sets. Now, suppose we knew that ARTCO2 and KINKEDTUNE had to be independent. Then we should provide this information to Gobnilp. We do this as follows:"
   ]
  },
  {
   "cell_type": "code",
   "execution_count": 7,
   "metadata": {},
   "outputs": [],
   "source": [
    "m.add_obligatory_independence(['ARTCO2'],['KINKEDTUBE'])"
   ]
  },
  {
   "cell_type": "markdown",
   "metadata": {},
   "source": [
    "We can recompute the local scores with this new information available:"
   ]
  },
  {
   "cell_type": "code",
   "execution_count": 8,
   "metadata": {},
   "outputs": [],
   "source": [
    "m.learn(start='data',end='local scores')"
   ]
  },
  {
   "cell_type": "markdown",
   "metadata": {},
   "source": [
    "And now we can check that there should be 75 fewer parents for ARTCO2, and also some reduction in the parent sets for KINKEDTUBE. "
   ]
  },
  {
   "cell_type": "code",
   "execution_count": 9,
   "metadata": {},
   "outputs": [
    {
     "name": "stdout",
     "output_type": "stream",
     "text": [
      "398\n",
      "32\n"
     ]
    }
   ],
   "source": [
    "print(len(m.local_scores['ARTCO2']))\n",
    "print(len(m.local_scores['KINKEDTUBE']))"
   ]
  },
  {
   "cell_type": "markdown",
   "metadata": {},
   "source": [
    "As expected there are $398 = 473 - 75$ fewere parent sets for ARTCO2, and also some reduction in the number of parent sets for KINKEDTUBE. This is because we asserted an independence constraint, which we can get to via the `obligatroy_conditional_indepedences` attribute:"
   ]
  },
  {
   "cell_type": "code",
   "execution_count": 10,
   "metadata": {},
   "outputs": [
    {
     "data": {
      "text/plain": [
       "{(frozenset({'ARTCO2'}), frozenset({'KINKEDTUBE'}), frozenset())}"
      ]
     },
     "execution_count": 10,
     "metadata": {},
     "output_type": "execute_result"
    }
   ],
   "source": [
    "m.obligatory_conditional_independences"
   ]
  },
  {
   "cell_type": "markdown",
   "metadata": {},
   "source": [
    "Note that the independence constraint is stored as a conditional independence constraint with an empty conditioning set (the 3rd set in the tuple above). Also note that `Gobnilp` is taking advantage of this constraint before a MIP problem has been created - to help reduce the number of local scores computed. Naturally this constraint is also taken into account when learning a BN (which is done by constructing and solving a MIP model) to ensure that any learned BN satisfies the constraint.\n",
    "\n",
    "When an independence (or conditional independence) constraint is added (by the user) `Gobnilp` deduces that certain other simpler constraints follow. In our current example, it is deduced that\n",
    "1. there can be no arrow between the two variables, and\n",
    "2. the two variables cannot be adjacent in the undirected skeleton"
   ]
  },
  {
   "cell_type": "code",
   "execution_count": 11,
   "metadata": {},
   "outputs": [
    {
     "data": {
      "text/plain": [
       "{('ARTCO2', 'KINKEDTUBE'), ('KINKEDTUBE', 'ARTCO2')}"
      ]
     },
     "execution_count": 11,
     "metadata": {},
     "output_type": "execute_result"
    }
   ],
   "source": [
    "m.forbidden_arrows"
   ]
  },
  {
   "cell_type": "code",
   "execution_count": 12,
   "metadata": {},
   "outputs": [
    {
     "data": {
      "text/plain": [
       "{frozenset({'ARTCO2', 'KINKEDTUBE'})}"
      ]
     },
     "execution_count": 12,
     "metadata": {},
     "output_type": "execute_result"
    }
   ],
   "source": [
    "m.forbidden_adjacencies"
   ]
  },
  {
   "cell_type": "markdown",
   "metadata": {},
   "source": [
    "Next, let's learn an optimal BN and check that it satisfies the given independence constraint. Since this is a reasonably hard BN learning problem, we'll get the output from Gurobi printed out so we can at least see the progress. We do this by setting the appropriate Gurobi attribute. "
   ]
  },
  {
   "cell_type": "code",
   "execution_count": 13,
   "metadata": {},
   "outputs": [
    {
     "name": "stdout",
     "output_type": "stream",
     "text": [
      "Changed value of parameter OutputFlag to 1\n",
      "   Prev: 0  Min: 0  Max: 1  Default: 1\n",
      "Changed value of parameter PoolSolutions to 1\n",
      "   Prev: 10  Min: 1  Max: 2000000000  Default: 10\n",
      "Changed value of parameter LazyConstraints to 1\n",
      "   Prev: 0  Min: 0  Max: 1  Default: 0\n",
      "Discarded solution information\n",
      "Gurobi Optimizer version 9.0.0 build v9.0.0rc2 (linux64)\n",
      "Optimize a model with 2288 rows, 7349 columns and 158765 nonzeros\n",
      "Model fingerprint: 0xaf366470\n",
      "Variable types: 0 continuous, 7349 integer (7349 binary)\n",
      "Coefficient statistics:\n",
      "  Matrix range     [1e+00, 1e+00]\n",
      "  Objective range  [1e+02, 1e+04]\n",
      "  Bounds range     [1e+00, 1e+00]\n",
      "  RHS range        [1e+00, 1e+00]\n",
      "Presolve removed 663 rows and 383 columns\n",
      "Presolve time: 0.57s\n",
      "Presolved: 1625 rows, 6966 columns, 85959 nonzeros\n",
      "Variable types: 0 continuous, 6966 integer (6966 binary)\n",
      "Found heuristic solution: objective -205904.1188\n",
      "Presolve removed 382 rows and 0 columns\n",
      "Presolved: 1245 rows, 6966 columns, 29899 nonzeros\n",
      "\n",
      "\n",
      "Root relaxation: objective -8.362617e+04, 214 iterations, 0.08 seconds\n",
      "\n",
      "    Nodes    |    Current Node    |     Objective Bounds      |     Work\n",
      " Expl Unexpl |  Obj  Depth IntInf | Incumbent    BestBd   Gap | It/Node Time\n",
      "\n",
      "     0     0 -83626.171    0   45 -205904.12 -83626.171  59.4%     -    0s\n",
      "     0     0 -85773.785    0   39 -205904.12 -85773.785  58.3%     -    1s\n",
      "     0     0 -86416.195    0   45 -205904.12 -86416.195  58.0%     -    1s\n",
      "     0     0 -87089.471    0   96 -205904.12 -87089.471  57.7%     -    1s\n",
      "     0     0 -87679.106    0  113 -205904.12 -87679.106  57.4%     -    1s\n",
      "     0     0 -88103.737    0  104 -205904.12 -88103.737  57.2%     -    2s\n",
      "     0     0 -88142.514    0  144 -205904.12 -88142.514  57.2%     -    2s\n",
      "     0     0 -88572.239    0  195 -205904.12 -88572.239  57.0%     -    2s\n",
      "     0     0 -91226.845    0  105 -205904.12 -91226.845  55.7%     -    2s\n",
      "     0     0 -91818.821    0  118 -205904.12 -91818.821  55.4%     -    2s\n",
      "     0     0 -92781.228    0  120 -205904.12 -92781.228  54.9%     -    2s\n",
      "     0     0 -94298.261    0  214 -205904.12 -94298.261  54.2%     -    4s\n",
      "     0     0 -95465.702    0  226 -205904.12 -95465.702  53.6%     -    4s\n",
      "     0     0 -96411.510    0  212 -205904.12 -96411.510  53.2%     -    4s\n",
      "     0     0 -97338.157    0  318 -205904.12 -97338.157  52.7%     -    4s\n",
      "     0     0 -100936.13    0  238 -205904.12 -100936.13  51.0%     -    4s\n",
      "     0     0 -101760.72    0  267 -205904.12 -101760.72  50.6%     -    5s\n",
      "     0     0 -102737.84    0  287 -205904.12 -102737.84  50.1%     -    5s\n",
      "     0     0 -102994.32    0  269 -205904.12 -102994.32  50.0%     -    5s\n",
      "     0     0 -103422.89    0  308 -205904.12 -103422.89  49.8%     -    5s\n",
      "     0     0 -103596.75    0  293 -205904.12 -103596.75  49.7%     -    5s\n",
      "     0     0 -103606.75    0  231 -205904.12 -103606.75  49.7%     -    6s\n",
      "     0     0 -103686.80    0  277 -205904.12 -103686.80  49.6%     -    6s\n",
      "     0     0 -103695.07    0  240 -205904.12 -103695.07  49.6%     -    6s\n",
      "     0     0 -103714.96    0  270 -205904.12 -103714.96  49.6%     -    6s\n",
      "     0     0 -103818.89    0  238 -205904.12 -103818.89  49.6%     -    6s\n",
      "     0     0 -103931.52    0  213 -205904.12 -103931.52  49.5%     -    7s\n",
      "     0     0 -103957.27    0  233 -205904.12 -103957.27  49.5%     -    7s\n",
      "     0     0 -103964.67    0  229 -205904.12 -103964.67  49.5%     -    7s\n",
      "     0     0 -104044.64    0  209 -205904.12 -104044.64  49.5%     -    7s\n",
      "     0     0 -104074.37    0  205 -205904.12 -104074.37  49.5%     -    8s\n",
      "     0     0 -104100.36    0  167 -205904.12 -104100.36  49.4%     -    8s\n",
      "     0     0 -104109.28    0   72 -205904.12 -104109.28  49.4%     -    8s\n",
      "     0     0 -104114.48    0   71 -205904.12 -104114.48  49.4%     -    8s\n",
      "     0     0 -104174.45    0  156 -205904.12 -104174.45  49.4%     -    9s\n",
      "     0     0 -104177.50    0  173 -205904.12 -104177.50  49.4%     -    9s\n",
      "     0     0 -104180.58    0  224 -205904.12 -104180.58  49.4%     -    9s\n",
      "     0     0 -104199.29    0  247 -205904.12 -104199.29  49.4%     -   10s\n",
      "     0     0 -104199.98    0  246 -205904.12 -104199.98  49.4%     -   10s\n",
      "     0     0 -104289.32    0  332 -205904.12 -104289.32  49.4%     -   11s\n",
      "     0     0 -104328.18    0  328 -205904.12 -104328.18  49.3%     -   11s\n",
      "     0     0 -104329.78    0  288 -205904.12 -104329.78  49.3%     -   12s\n",
      "     0     0 -104385.18    0  369 -205904.12 -104385.18  49.3%     -   12s\n",
      "     0     0 -104387.08    0  344 -205904.12 -104387.08  49.3%     -   13s\n",
      "     0     0 -104406.93    0  365 -205904.12 -104406.93  49.3%     -   13s\n",
      "     0     0 -104414.26    0  361 -205904.12 -104414.26  49.3%     -   14s\n",
      "     0     0 -104423.99    0  371 -205904.12 -104423.99  49.3%     -   14s\n",
      "     0     0 -104425.20    0  365 -205904.12 -104425.20  49.3%     -   14s\n",
      "     0     0 -104482.25    0  385 -205904.12 -104482.25  49.3%     -   15s\n",
      "     0     0 -104485.90    0  384 -205904.12 -104485.90  49.3%     -   15s\n",
      "     0     0 -104486.58    0  381 -205904.12 -104486.58  49.3%     -   16s\n",
      "     0     0 -104517.74    0  351 -205904.12 -104517.74  49.2%     -   17s\n",
      "     0     0 -104520.27    0  360 -205904.12 -104520.27  49.2%     -   17s\n",
      "     0     0 -104522.83    0  381 -205904.12 -104522.83  49.2%     -   17s\n",
      "     0     0 -104549.12    0  364 -205904.12 -104549.12  49.2%     -   18s\n",
      "     0     0 -104552.59    0  381 -205904.12 -104552.59  49.2%     -   19s\n",
      "     0     0 -104553.42    0  379 -205904.12 -104553.42  49.2%     -   19s\n",
      "     0     0 -104602.96    0  386 -205904.12 -104602.96  49.2%     -   20s\n",
      "     0     0 -104604.65    0  338 -205904.12 -104604.65  49.2%     -   20s\n",
      "     0     0 -104627.85    0  413 -205904.12 -104627.85  49.2%     -   21s\n",
      "     0     0 -104631.67    0  398 -205904.12 -104631.67  49.2%     -   22s\n",
      "     0     0 -104633.17    0  397 -205904.12 -104633.17  49.2%     -   22s\n",
      "     0     0 -104634.67    0  386 -205904.12 -104634.67  49.2%     -   24s\n",
      "     0     0 -104634.82    0  374 -205904.12 -104634.82  49.2%     -   24s\n",
      "     0     0 -104644.49    0  389 -205904.12 -104644.49  49.2%     -   25s\n",
      "     0     0 -104645.79    0  405 -205904.12 -104645.79  49.2%     -   25s\n",
      "     0     0 -104650.59    0  392 -205904.12 -104650.59  49.2%     -   26s\n",
      "     0     0 -104652.62    0  385 -205904.12 -104652.62  49.2%     -   27s\n",
      "     0     0 -104656.84    0  401 -205904.12 -104656.84  49.2%     -   28s\n",
      "     0     0 -104657.20    0  412 -205904.12 -104657.20  49.2%     -   28s\n",
      "     0     0 -104657.44    0  405 -205904.12 -104657.44  49.2%     -   29s\n",
      "     0     0 -104657.50    0  405 -205904.12 -104657.50  49.2%     -   30s\n",
      "     0     0 -104657.53    0  406 -205904.12 -104657.53  49.2%     -   31s\n",
      "     0     0 -104657.53    0  405 -205904.12 -104657.53  49.2%     -   32s\n",
      "     0     0 -104657.53    0  405 -205904.12 -104657.53  49.2%     -   35s\n",
      "     0     2 -104671.10    0  405 -205904.12 -104671.10  49.2%     -   36s\n",
      "    29    32 -104722.95    9  389 -205904.12 -104722.95  49.1%   245   40s\n",
      "    58    53 -104755.32   17  411 -205904.12 -104724.42  49.1%   213   45s\n",
      "H   59    53                    -105355.6241 -104724.42  0.60%   209   45s\n",
      "   204   181 -104799.37    7  294 -105355.62 -104724.42  0.60%   132   50s\n",
      "   370   296 -104817.80    4  215 -105355.62 -104748.96  0.58%   120   55s\n",
      "   548   409     cutoff   20      -105355.62 -104754.80  0.57%   111   60s\n",
      "   759   555 -104904.10   14  405 -105355.62 -104764.41  0.56%   102   67s\n",
      "   769   562 -104954.21   19  319 -105355.62 -104764.41  0.56%   101   70s\n",
      "   777   567 -105139.07   29  394 -105355.62 -104764.41  0.56%   100   76s\n",
      "   778   571 -104764.41   11  395 -105355.62 -104764.41  0.56%   105   80s\n",
      "   794   582 -104847.27   15  145 -105355.62 -104764.41  0.56%   109   85s\n",
      "   867   606 -105129.69   29  206 -105355.62 -104764.41  0.56%   114   90s\n",
      "   956   642 -105194.84   36  201 -105355.62 -104764.41  0.56%   120   95s\n",
      "  1030   681 -105172.02   33  173 -105355.62 -104764.41  0.56%   120  100s\n",
      "  1145   705 -105339.09   24    - -105355.62 -104778.15  0.55%   118  105s\n",
      "H 1212   703                    -105331.8158 -104778.15  0.53%   120  109s\n",
      "  1213   714 -104932.57   32  244 -105331.82 -104778.15  0.53%   121  110s\n",
      "  1280   718 -104903.80   17  309 -105331.82 -104791.82  0.51%   125  115s\n"
     ]
    },
    {
     "name": "stdout",
     "output_type": "stream",
     "text": [
      "  1364   724 -104978.18   24  309 -105331.82 -104813.51  0.49%   125  120s\n",
      "  1432   762 -105131.71   27  336 -105331.82 -104822.06  0.48%   126  125s\n",
      "  1531   749     cutoff   32      -105331.82 -104848.01  0.46%   127  130s\n",
      "  1655   766 -105128.92   22  293 -105331.82 -104858.24  0.45%   130  135s\n",
      "  1765   780 -105310.31   42    - -105331.82 -104882.86  0.43%   128  140s\n",
      "  1845   774 -105115.98   23  300 -105331.82 -104888.75  0.42%   130  147s\n",
      "  1885   777 -104991.01   19  377 -105331.82 -104898.49  0.41%   131  150s\n",
      "  1960   781 -105188.38   33  212 -105331.82 -104901.96  0.41%   134  156s\n",
      "  2058   782 -105330.80   33    - -105331.82 -104908.09  0.40%   135  161s\n",
      "  2125   775 -105066.06   18  275 -105331.82 -104917.14  0.39%   136  165s\n",
      "  2223   795 -105090.34   26  277 -105331.82 -104919.48  0.39%   137  171s\n",
      "  2280   802     cutoff   23      -105331.82 -104922.58  0.39%   137  175s\n",
      "  2430   812 -104965.28   21  316 -105331.82 -104929.47  0.38%   135  180s\n",
      "  2532   867 -105320.86   35    4 -105331.82 -104937.99  0.37%   136  187s\n",
      "  2612   891 -105320.86   36   16 -105331.82 -104946.54  0.37%   136  192s\n",
      "  2697   922     cutoff   20      -105331.82 -104953.03  0.36%   135  196s\n",
      "  2797   941 -105246.74   23  274 -105331.82 -104959.75  0.35%   135  202s\n",
      "  2875   963 -105252.73   24  245 -105331.82 -104965.79  0.35%   136  207s\n",
      "  2970   991 -105285.28   27  254 -105331.82 -104974.30  0.34%   136  212s\n",
      "  3065  1003 -105246.88   21  269 -105331.82 -104980.78  0.33%   137  218s\n",
      "  3139  1024     cutoff   23      -105331.82 -104986.88  0.33%   137  224s\n",
      "  3266  1075 -105163.81   30  274 -105331.82 -104995.07  0.32%   137  230s\n",
      "  3403  1103     cutoff   39      -105331.82 -105002.39  0.31%   137  237s\n",
      "  3500  1122 -105121.29   27  261 -105331.82 -105005.49  0.31%   137  245s\n",
      "  3635  1154     cutoff   19      -105331.82 -105017.16  0.30%   138  257s\n",
      "  3768  1186 -105244.38   21  113 -105331.82 -105021.40  0.29%   139  267s\n",
      "  3892  1230     cutoff   31      -105331.82 -105034.50  0.28%   139  277s\n",
      "  4065  1291 -105321.22   49    - -105331.82 -105044.35  0.27%   138  286s\n",
      "  4255  1294 -105322.90   49   11 -105331.82 -105052.14  0.27%   136  295s\n",
      "  4428  1314     cutoff   52      -105331.82 -105067.46  0.25%   136  303s\n",
      "  4599  1351 -105283.76   26  234 -105331.82 -105074.14  0.24%   135  312s\n",
      "  4822  1387 -105328.09   48   31 -105331.82 -105082.93  0.24%   134  323s\n",
      "  5028  1415 -105262.13   32  187 -105331.82 -105092.11  0.23%   134  334s\n",
      "  5302  1406     cutoff   23      -105331.82 -105102.58  0.22%   132  344s\n",
      "  5607  1406     cutoff   34      -105331.82 -105121.01  0.20%   131  357s\n",
      "  5862  1419 -105310.53   31  206 -105331.82 -105130.89  0.19%   131  368s\n",
      "  6204  1402 -105323.59   49    - -105331.82 -105141.50  0.18%   130  379s\n",
      "  6378  1407     cutoff   51      -105331.82 -105162.40  0.16%   129  380s\n",
      "  6561  1377 -105323.59   49   11 -105331.82 -105162.57  0.16%   128  393s\n",
      "  6996  1309 -105326.76   50   12 -105331.82 -105176.09  0.15%   126  406s\n",
      "  7408  1223 -105331.06   54    5 -105331.82 -105187.76  0.14%   124  418s\n",
      "  7723  1100     cutoff   55      -105331.82 -105199.43  0.13%   122  429s\n",
      "  8103   967     cutoff   54      -105331.82 -105211.75  0.11%   120  440s\n",
      "  8534   821 -105325.12   52   84 -105331.82 -105223.94  0.10%   117  451s\n",
      "  9030   660     cutoff   53      -105331.82 -105236.98  0.09%   114  461s\n",
      "  9543   483 -105312.25   49    - -105331.82 -105249.79  0.08%   110  469s\n",
      " 10077   303 -105291.19   67    - -105331.82 -105263.63  0.06%   106  479s\n",
      " 10976   268 -105293.02   67    - -105331.82 -105263.63  0.06%   100  486s\n",
      " 11611   276 -105293.22   67   14 -105331.82 -105263.63  0.06%  95.7  496s\n",
      " 12179   203 -105302.44   72   36 -105331.82 -105269.75  0.06%  92.1  502s\n",
      " 12976    90     cutoff   74      -105331.82 -105296.01  0.03%  87.4  509s\n",
      " 13679     0 -105316.39   72   39 -105331.82 -105304.52  0.03%  83.6  514s\n",
      " 14133    93 -105331.59   65    - -105331.82 -105308.85  0.02%  81.3  520s\n",
      "\n",
      "Cutting planes:\n",
      "  User: 925\n",
      "  Gomory: 6\n",
      "  Implied bound: 2\n",
      "  MIR: 1\n",
      "  Flow cover: 8\n",
      "  Zero half: 101\n",
      "  Lazy constraints: 1133\n",
      "\n",
      "Explored 14454 nodes (1160907 simplex iterations) in 523.52 seconds\n",
      "Thread count was 4 (of 4 available processors)\n",
      "\n",
      "Solution count 1: -105332 \n",
      "No other solutions better than -105332\n",
      "\n",
      "Optimal solution found (tolerance 0.00e+00)\n",
      "Best objective -1.053318157525e+05, best bound -1.053318157525e+05, gap 0.0000%\n",
      "\n",
      "User-callback calls 72729, time in user-callback 87.89 sec\n",
      "**********\n",
      "BN has score -105331.81575247279\n",
      "**********\n",
      "ANAPHYLAXIS<-TPR -471.48556937259855\n",
      "TPR<- -10901.914716929197\n",
      "ARTCO2<-VENTALV -1816.018107669981\n",
      "VENTALV<-INTUBATION,VENTLUNG -1785.1568955858966\n",
      "BP<-CO,TPR -4927.804606748883\n",
      "CO<-HR,STROKEVOLUME -2678.9117199075263\n",
      "CATECHOL<-ARTCO2,TPR -1521.3018734225625\n",
      "STROKEVOLUME<-HYPOVOLEMIA,LVFAILURE -4437.288938131533\n",
      "HR<-CATECHOL -3744.599767304855\n",
      "CVP<-LVEDVOLUME -3006.6153021322098\n",
      "LVEDVOLUME<-HYPOVOLEMIA,LVFAILURE -3613.5057310384145\n",
      "DISCONNECT<-VENTMACH,VENTTUBE -786.6223629978194\n",
      "VENTMACH<-VENTTUBE -2677.452627632447\n",
      "VENTTUBE<-INTUBATION,KINKEDTUBE,VENTLUNG -4542.004684191837\n",
      "ERRCAUTER<- -3222.576822231058\n",
      "ERRLOWOUTPUT<- -1972.2788189759885\n",
      "EXPCO2<-ARTCO2,VENTLUNG -1772.6591272249061\n",
      "VENTLUNG<- -7119.29822334621\n",
      "FIO2<- -1888.6286705336533\n",
      "HISTORY<- -2091.7769199432223\n",
      "HRBP<-ERRLOWOUTPUT,HR -1331.6218853034952\n",
      "HREKG<-ERRCAUTER,HR -1507.9736736634077\n",
      "HRSAT<-ERRCAUTER,HR -1452.085102920726\n",
      "HYPOVOLEMIA<- -4990.780506105162\n",
      "INSUFFANESTH<- -3303.7325344726705\n",
      "INTUBATION<-MINVOL,VENTLUNG -929.77203926527\n",
      "MINVOL<-VENTLUNG -4436.682264679155\n",
      "KINKEDTUBE<- -1558.2831144287484\n",
      "LVFAILURE<-HISTORY -556.2566040066595\n",
      "MINVOLSET<-VENTMACH -946.5564916227886\n",
      "PAP<- -4194.791057672541\n",
      "PCWP<-LVEDVOLUME -2233.68753796065\n",
      "PRESS<-INTUBATION,KINKEDTUBE,VENTTUBE -8478.131859909445\n",
      "PULMEMBOLUS<-PAP -396.6111867858417\n",
      "PVSAT<-FIO2,VENTALV -846.3768118197768\n",
      "SAO2<-PVSAT,SHUNT -1137.5909747223777\n",
      "SHUNT<-INTUBATION,PULMEMBOLUS -2052.9806218132726\n",
      "**********\n",
      "bnlearn modelstring = \n",
      "[ANAPHYLAXIS|TPR][TPR][ARTCO2|VENTALV][VENTALV|VENTLUNG:INTUBATION][BP|TPR:CO][CO|STROKEVOLUME:HR][CATECHOL|ARTCO2:TPR][STROKEVOLUME|HYPOVOLEMIA:LVFAILURE][HR|CATECHOL][CVP|LVEDVOLUME][LVEDVOLUME|HYPOVOLEMIA:LVFAILURE][DISCONNECT|VENTMACH:VENTTUBE][VENTMACH|VENTTUBE][VENTTUBE|KINKEDTUBE:VENTLUNG:INTUBATION][ERRCAUTER][ERRLOWOUTPUT][EXPCO2|ARTCO2:VENTLUNG][VENTLUNG][FIO2][HISTORY][HRBP|HR:ERRLOWOUTPUT][HREKG|HR:ERRCAUTER][HRSAT|HR:ERRCAUTER][HYPOVOLEMIA][INSUFFANESTH][INTUBATION|VENTLUNG:MINVOL][MINVOL|VENTLUNG][KINKEDTUBE][LVFAILURE|HISTORY][MINVOLSET|VENTMACH][PAP][PCWP|LVEDVOLUME][PRESS|KINKEDTUBE:VENTTUBE:INTUBATION][PULMEMBOLUS|PAP][PVSAT|VENTALV:FIO2][SAO2|SHUNT:PVSAT][SHUNT|PULMEMBOLUS:INTUBATION]\n",
      "**********\n",
      "CPDAG:\n",
      "Vertices: ANAPHYLAXIS,TPR,ARTCO2,VENTALV,BP,CO,CATECHOL,STROKEVOLUME,HR,CVP,LVEDVOLUME,DISCONNECT,VENTMACH,VENTTUBE,ERRCAUTER,ERRLOWOUTPUT,EXPCO2,VENTLUNG,FIO2,HISTORY,HRBP,HREKG,HRSAT,HYPOVOLEMIA,INSUFFANESTH,INTUBATION,MINVOL,KINKEDTUBE,LVFAILURE,MINVOLSET,PAP,PCWP,PRESS,PULMEMBOLUS,PVSAT,SAO2,SHUNT\n",
      "TPR-ANAPHYLAXIS\n",
      "TPR->BP\n",
      "TPR->CATECHOL\n",
      "ARTCO2->CATECHOL\n",
      "ARTCO2->EXPCO2\n",
      "VENTALV-ARTCO2\n",
      "VENTALV->PVSAT\n",
      "CO->BP\n",
      "CATECHOL->HR\n",
      "STROKEVOLUME->CO\n",
      "HR->CO\n",
      "HR->HRBP\n",
      "HR->HREKG\n",
      "HR->HRSAT\n",
      "LVEDVOLUME->CVP\n",
      "LVEDVOLUME->PCWP\n",
      "VENTMACH-DISCONNECT\n",
      "VENTMACH->MINVOLSET\n",
      "VENTTUBE->DISCONNECT\n",
      "VENTTUBE->PRESS\n",
      "VENTTUBE->VENTMACH\n",
      "ERRCAUTER->HREKG\n",
      "ERRCAUTER->HRSAT\n",
      "ERRLOWOUTPUT->HRBP\n",
      "VENTLUNG->EXPCO2\n",
      "VENTLUNG-INTUBATION\n",
      "VENTLUNG-MINVOL\n",
      "VENTLUNG-VENTALV\n",
      "VENTLUNG->VENTTUBE\n",
      "FIO2->PVSAT\n",
      "HISTORY-LVFAILURE\n",
      "HYPOVOLEMIA->LVEDVOLUME\n",
      "HYPOVOLEMIA->STROKEVOLUME\n",
      "INTUBATION->PRESS\n",
      "INTUBATION->SHUNT\n",
      "INTUBATION-VENTALV\n",
      "INTUBATION->VENTTUBE\n",
      "MINVOL-INTUBATION\n",
      "KINKEDTUBE->PRESS\n",
      "KINKEDTUBE->VENTTUBE\n",
      "LVFAILURE->LVEDVOLUME\n",
      "LVFAILURE->STROKEVOLUME\n",
      "PAP-PULMEMBOLUS\n",
      "PULMEMBOLUS->SHUNT\n",
      "PVSAT->SAO2\n",
      "SHUNT->SAO2\n",
      "\n"
     ]
    },
    {
     "data": {
      "image/png": "[encoded data removed]",
      "text/plain": [
       "<Figure size 432x288 with 1 Axes>"
      ]
     },
     "metadata": {},
     "output_type": "display_data"
    }
   ],
   "source": [
    "m.setParam('OutputFlag',True)\n",
    "m.learn(start='local scores') # construct a MIP model and get Gurobi to solve it"
   ]
  },
  {
   "cell_type": "markdown",
   "metadata": {},
   "source": [
    "**This cell needs updating**\n",
    "\n",
    "Although this is quite a large network it is easy to see that ARTCO2 and KINKEDTUBE are indeed independent. This is because neither have any parents.\n",
    "\n",
    "Gobnilp/Gurobi took quite a while (321 seconds) to find a provably optimal BN in this case (and recall that we are running with the default parent set limit of 3 - were we to raise that solving would take longer still). As is normal Gobnilp spent some time (here 73 seconds) adding cutting planes to reduce the upper bound on the score of an optimal BN from an original upper bound of -83626.171 down to -104594.63. Then Gurobi builds a search tree by branching on the values of MIP variables, finally finding a BN with a reasonable score at node 728 of this tree. Although at this point we know that the incumbent is close to the best possible BN (gap = 0.78%) it takes quite a while longer and thousands more search nodes before we can be sure we have an optimal BN. (In fact an optimal, as opposed to close-to-optimal BN, is not found until near the end of the search at node 13577.)\n",
    "\n",
    "It is interesting to compare this to what happens when we learn from this dataset with *no extra constraints*:"
   ]
  },
  {
   "cell_type": "code",
   "execution_count": 14,
   "metadata": {},
   "outputs": [
    {
     "name": "stdout",
     "output_type": "stream",
     "text": [
      "Parameter OutputFlag unchanged\n",
      "   Value: 1  Min: 0  Max: 1  Default: 1\n",
      "Changed value of parameter PreCrush to 1\n",
      "   Prev: 0  Min: 0  Max: 1  Default: 0\n",
      "Changed value of parameter CutPasses to 100000\n",
      "   Prev: -1  Min: -1  Max: 2000000000  Default: -1\n",
      "Changed value of parameter GomoryPasses to 100000\n",
      "   Prev: -1  Min: -1  Max: 2000000000  Default: -1\n",
      "Changed value of parameter MIPFocus to 2\n",
      "   Prev: 0  Min: 0  Max: 3  Default: 0\n",
      "Changed value of parameter ZeroHalfCuts to 2\n",
      "   Prev: -1  Min: -1  Max: 2  Default: -1\n",
      "Changed value of parameter MIPGap to 0.0\n",
      "   Prev: 0.0001  Min: 0.0  Max: inf  Default: 0.0001\n",
      "Changed value of parameter MIPGapAbs to 0.0\n",
      "   Prev: 1e-10  Min: 0.0  Max: inf  Default: 1e-10\n",
      "Changed value of parameter PoolSolutions to 1\n",
      "   Prev: 10  Min: 1  Max: 2000000000  Default: 10\n",
      "Changed value of parameter LazyConstraints to 1\n",
      "   Prev: 0  Min: 0  Max: 1  Default: 0\n",
      "Discarded solution information\n",
      "Gurobi Optimizer version 9.0.0 build v9.0.0rc2 (linux64)\n",
      "Optimize a model with 2304 rows, 7437 columns and 161370 nonzeros\n",
      "Model fingerprint: 0xbf5761d1\n",
      "Variable types: 0 continuous, 7437 integer (7437 binary)\n",
      "Coefficient statistics:\n",
      "  Matrix range     [1e+00, 1e+00]\n",
      "  Objective range  [1e+02, 1e+04]\n",
      "  Bounds range     [1e+00, 1e+00]\n",
      "  RHS range        [1e+00, 1e+00]\n",
      "Presolve removed 663 rows and 382 columns\n",
      "Presolve time: 0.60s\n",
      "Presolved: 1641 rows, 7055 columns, 87103 nonzeros\n",
      "Variable types: 0 continuous, 7055 integer (7055 binary)\n",
      "Found heuristic solution: objective -205904.1188\n",
      "Presolve removed 384 rows and 0 columns\n",
      "Presolved: 1259 rows, 7055 columns, 30339 nonzeros\n",
      "\n",
      "\n",
      "Root relaxation: objective -8.362617e+04, 209 iterations, 0.08 seconds\n",
      "\n",
      "    Nodes    |    Current Node    |     Objective Bounds      |     Work\n",
      " Expl Unexpl |  Obj  Depth IntInf | Incumbent    BestBd   Gap | It/Node Time\n",
      "\n",
      "     0     0 -83626.171    0   45 -205904.12 -83626.171  59.4%     -    0s\n",
      "     0     0 -85773.785    0   39 -205904.12 -85773.785  58.3%     -    1s\n",
      "     0     0 -86231.283    0   27 -205904.12 -86231.283  58.1%     -    1s\n",
      "     0     0 -87420.848    0   74 -205904.12 -87420.848  57.5%     -    1s\n",
      "     0     0 -87576.555    0   66 -205904.12 -87576.555  57.5%     -    1s\n",
      "     0     0 -87877.050    0  135 -205904.12 -87877.050  57.3%     -    1s\n",
      "     0     0 -88075.444    0  151 -205904.12 -88075.444  57.2%     -    2s\n",
      "     0     0 -88119.643    0  120 -205904.12 -88119.643  57.2%     -    2s\n",
      "     0     0 -88407.072    0  130 -205904.12 -88407.072  57.1%     -    2s\n",
      "     0     0 -88500.592    0  156 -205904.12 -88500.592  57.0%     -    2s\n",
      "     0     0 -88500.592    0  156 -205904.12 -88500.592  57.0%     -    5s\n",
      "     0     0 -91716.201    0  165 -205904.12 -91716.201  55.5%     -    5s\n",
      "     0     0 -92492.344    0  248 -205904.12 -92492.344  55.1%     -    5s\n",
      "     0     0 -92682.650    0  232 -205904.12 -92682.650  55.0%     -    5s\n",
      "     0     0 -93611.649    0  291 -205904.12 -93611.649  54.5%     -    7s\n",
      "     0     0 -93611.649    0  291 -205904.12 -93611.649  54.5%     -   10s\n",
      "     0     2 -94370.145    0  244 -205904.12 -94370.145  54.2%     -   11s\n",
      "    61    55 -102921.42   21    - -205904.12 -97237.047  52.8%  79.0   15s\n",
      "   170   146 -102221.40   18   44 -205904.12 -97309.088  52.7%  92.8   20s\n",
      "*  251   194              29    -106234.5889 -97421.646  8.30%  89.5   23s\n",
      "   297   214 -105383.75   17  248 -106234.59 -97421.646  8.30%  93.5   25s\n",
      "*  332   224              35    -106200.7147 -97687.786  8.02%  95.6   26s\n",
      "   510   333 -104636.84    4  305 -106200.71 -98582.015  7.17%  87.6   30s\n",
      "   667   454 -106160.88   17    - -106200.71 -99093.926  6.69%  84.4   35s\n",
      "H  724   485                    -106119.4099 -99183.913  6.54%  88.9   37s\n",
      "   725   483 -105259.41   13  291 -106119.41 -99183.913  6.54%  88.8   40s\n",
      "H  733   463                    -105983.3389 -103533.92  2.31%  87.8   42s\n",
      "   736   465 -105259.41   13  362 -105983.34 -103580.93  2.27%  87.4   51s\n",
      "   742   469 -105192.19   15  377 -105983.34 -103733.95  2.12%  86.7   55s\n",
      "   746   472 -105629.73   36  428 -105983.34 -103771.56  2.09%  86.3   60s\n",
      "   750   475 -103779.06   15  412 -105983.34 -103779.06  2.08%  85.8   66s\n",
      "   752   476 -105397.24   36  412 -105983.34 -103779.06  2.08%  85.6   86s\n",
      "   755   481 -103914.53   12  348 -105983.34 -103851.41  2.01%  90.2   90s\n",
      "   825   517 -104710.11   23  304 -105983.34 -103920.38  1.95%  94.1   95s\n",
      "*  838   492              35    -105536.8339 -103920.42  1.53%  93.4   95s\n",
      "*  840   469              36    -105518.3348 -103920.42  1.51%  93.1   95s\n",
      "   949   511 -104875.50   35  146 -105518.33 -104002.38  1.44%  97.8  100s\n",
      "* 1092   507              33    -105440.9635 -104111.33  1.26%  96.4  104s\n",
      "* 1093   484              33    -105436.9602 -104111.33  1.26%  96.4  104s\n",
      "  1098   490 -104766.32   18  275 -105436.96 -104111.33  1.26%  96.5  105s\n",
      "* 1155   487              31    -105423.5710 -104160.49  1.20%  95.5  106s\n",
      "* 1158   466              29    -105419.5677 -104160.49  1.19%  95.3  106s\n",
      "  1261   504 -104585.69   19  283 -105419.57 -104240.90  1.12%  94.5  110s\n",
      "* 1355   498              41    -105404.7032 -104241.45  1.10%  94.0  113s\n",
      "H 1365   482                    -105392.5827 -104241.45  1.09%  94.1  114s\n",
      "  1377   491 -105298.95   25   59 -105392.58 -104245.33  1.09%  93.9  115s\n",
      "* 1416   418              25    -105282.2521 -104282.65  0.95%  94.1  116s\n",
      "* 1417   400              25    -105278.2488 -104282.65  0.95%  94.0  116s\n",
      "  1554   403     cutoff   33      -105278.25 -104317.18  0.91%  93.6  120s\n",
      "  1669   440 -104872.47   22   55 -105278.25 -104346.95  0.88%  93.7  125s\n",
      "  1884   520 -105202.22   24   83 -105278.25 -104400.72  0.83%  93.4  130s\n",
      "  2040   574 -105180.65   23   87 -105278.25 -104435.27  0.80%  93.2  135s\n",
      "H 2232   624                    -105258.6519 -104490.41  0.73%  92.8  140s\n",
      "  2367   672 -105111.53   21   64 -105258.65 -104527.91  0.69%  93.0  145s\n",
      "  2624   737 -105205.35   29  194 -105258.65 -104594.35  0.63%  90.9  152s\n",
      "H 2652   703                    -105226.5119 -104594.63  0.60%  90.9  152s\n",
      "  2708   735     cutoff   25      -105226.51 -104603.28  0.59%  91.8  155s\n",
      "  2929   822     cutoff   31      -105226.51 -104648.26  0.55%  90.3  161s\n",
      "  3175   915 -105164.70   45   43 -105226.51 -104667.87  0.53%  88.6  166s\n",
      "  3352   958 -104862.54   27  113 -105226.51 -104695.54  0.50%  87.9  172s\n",
      "  3469   996 -105146.78   51  107 -105226.51 -104725.38  0.48%  87.6  176s\n",
      "  3642  1035 -104924.69   26   87 -105226.51 -104730.20  0.47%  86.2  180s\n",
      "  3872  1081 -104994.46   21   58 -105226.51 -104760.35  0.44%  86.1  187s\n",
      "  4011  1117 -105190.62   20   90 -105226.51 -104768.48  0.44%  85.8  191s\n",
      "  4179  1124 -104930.92   21   85 -105226.51 -104782.45  0.42%  85.0  195s\n",
      "  4424  1189 -105166.08   25  161 -105226.51 -104820.87  0.39%  85.0  204s\n",
      "  4559  1214     cutoff   30      -105226.51 -104830.26  0.38%  84.6  210s\n",
      "  4709  1227 -105187.72   25   93 -105226.51 -104840.53  0.37%  84.6  215s\n",
      "  4845  1238     cutoff   29      -105226.51 -104864.74  0.34%  84.6  220s\n",
      "  5190  1327 -104935.15   43  149 -105226.51 -104899.56  0.31%  84.0  229s\n",
      "  5403  1331 -105186.79   34   71 -105226.51 -104913.74  0.30%  83.5  235s\n",
      "H 5472  1331                    -105226.5118 -104923.18  0.29%  83.5  235s\n",
      "  5555  1376     cutoff   28      -105226.51 -104923.93  0.29%  83.4  241s\n",
      "  5823  1427 -105096.16   33   87 -105226.51 -104936.46  0.28%  82.6  247s\n",
      "  6141  1457     cutoff   24      -105226.51 -104949.61  0.26%  81.3  254s\n",
      "  6460  1457 -105225.86   19  173 -105226.51 -104959.09  0.25%  80.2  255s\n",
      "  6470  1456     cutoff   63      -105226.51 -104960.43  0.25%  80.2  263s\n",
      "H 6473  1456                    -105226.5114 -104960.43  0.25%  80.2  263s\n",
      "H 6524  1456                    -105226.5037 -104960.43  0.25%  80.0  263s\n",
      "  6525  1505 -105163.45   26   95 -105226.50 -104961.24  0.25%  80.0  268s\n",
      "  6895  1509 -105218.44   47   85 -105226.50 -104971.62  0.24%  78.6  275s\n",
      "  7221  1495     cutoff   31      -105226.50 -104983.98  0.23%  77.6  281s\n",
      "  7548  1514 -105148.81   34   59 -105226.50 -104994.51  0.22%  76.8  287s\n",
      "  7889  1473     cutoff   29      -105226.50 -105007.06  0.21%  75.7  293s\n",
      "  8138  1438     cutoff   32      -105226.50 -105016.68  0.20%  75.4  299s\n"
     ]
    },
    {
     "name": "stdout",
     "output_type": "stream",
     "text": [
      "  8465  1399 -105168.13   57   52 -105226.50 -105029.93  0.19%  74.8  305s\n",
      "  8716  1338     cutoff   22      -105226.50 -105040.23  0.18%  74.5  311s\n",
      "  9088  1249     cutoff   35      -105226.50 -105052.35  0.17%  73.7  318s\n",
      "  9469  1137 -105178.38   20   70 -105226.50 -105063.79  0.15%  72.9  324s\n",
      "  9633  1137 -105192.06   39   59 -105226.50 -105072.77  0.15%  72.7  325s\n",
      "  9828  1015     cutoff   38      -105226.50 -105075.42  0.14%  72.3  331s\n",
      " 10195   881 -105188.10   23  105 -105226.50 -105088.51  0.13%  71.5  336s\n",
      " 10485   733     cutoff   39      -105226.50 -105100.20  0.12%  71.1  341s\n",
      " 10882   571     cutoff   28      -105226.50 -105113.10  0.11%  70.2  346s\n",
      " 11256   393     cutoff   54      -105226.50 -105132.68  0.09%  69.3  350s\n",
      "\n",
      "Cutting planes:\n",
      "  User: 1068\n",
      "  Gomory: 1\n",
      "  Flow cover: 5\n",
      "  Zero half: 78\n",
      "  Lazy constraints: 43\n",
      "\n",
      "Explored 12089 nodes (807784 simplex iterations) in 354.98 seconds\n",
      "Thread count was 4 (of 4 available processors)\n",
      "\n",
      "Solution count 1: -105227 \n",
      "No other solutions better than -105227\n",
      "\n",
      "Optimal solution found (tolerance 0.00e+00)\n",
      "Best objective -1.052265036829e+05, best bound -1.052265036829e+05, gap 0.0000%\n",
      "\n",
      "User-callback calls 65083, time in user-callback 44.72 sec\n",
      "**********\n",
      "BN has score -105226.50368290927\n",
      "**********\n",
      "ANAPHYLAXIS<- -578.587070487134\n",
      "ARTCO2<-VENTALV -1816.018107669981\n",
      "VENTALV<-INTUBATION,VENTLUNG -1785.1568955858966\n",
      "BP<-CO,TPR -4927.804606748883\n",
      "TPR<-ANAPHYLAXIS -10794.813215814662\n",
      "CO<-HR,STROKEVOLUME -2678.9117199075263\n",
      "CATECHOL<-ARTCO2,TPR -1521.3018734225625\n",
      "STROKEVOLUME<-HYPOVOLEMIA,LVFAILURE -4437.288938131533\n",
      "HR<-CATECHOL -3744.599767304855\n",
      "CVP<-LVEDVOLUME -3006.6153021322098\n",
      "LVEDVOLUME<-HYPOVOLEMIA,LVFAILURE -3613.5057310384145\n",
      "DISCONNECT<- -3295.0317430806754\n",
      "ERRCAUTER<- -3222.576822231058\n",
      "ERRLOWOUTPUT<- -1972.2788189759885\n",
      "EXPCO2<-ARTCO2,VENTLUNG -1772.6591272249061\n",
      "VENTLUNG<-INTUBATION,KINKEDTUBE,VENTTUBE -3618.0085247885145\n",
      "FIO2<- -1888.6286705336533\n",
      "HISTORY<- -2091.7769199432223\n",
      "HRBP<-ERRLOWOUTPUT,HR -1331.6218853034952\n",
      "HREKG<-ERRCAUTER,HR -1507.9736736634077\n",
      "HRSAT<-ERRCAUTER,HR -1452.085102920726\n",
      "HYPOVOLEMIA<- -4990.780506105162\n",
      "INSUFFANESTH<- -3303.7325344726705\n",
      "INTUBATION<- -3428.3602719444025\n",
      "KINKEDTUBE<- -1558.2831144287484\n",
      "LVFAILURE<-HISTORY -556.2566040066595\n",
      "MINVOL<-INTUBATION,VENTLUNG -2061.9057414227136\n",
      "MINVOLSET<- -3952.777366733397\n",
      "PAP<-PULMEMBOLUS -4008.254809145714\n",
      "PULMEMBOLUS<- -583.1474353126687\n",
      "PCWP<-LVEDVOLUME -2233.68753796065\n",
      "PRESS<-INTUBATION,KINKEDTUBE,VENTTUBE -8478.131859909445\n",
      "VENTTUBE<-DISCONNECT,VENTMACH -1814.1386675404647\n",
      "PVSAT<-FIO2,VENTALV -846.3768118197768\n",
      "SAO2<-PVSAT,SHUNT -1137.5909747223777\n",
      "SHUNT<-INTUBATION,PULMEMBOLUS -2052.9806218132726\n",
      "VENTMACH<-MINVOLSET -3162.8625425327336\n",
      "**********\n",
      "bnlearn modelstring = \n",
      "[ANAPHYLAXIS][ARTCO2|VENTALV][VENTALV|VENTLUNG:INTUBATION][BP|TPR:CO][TPR|ANAPHYLAXIS][CO|STROKEVOLUME:HR][CATECHOL|ARTCO2:TPR][STROKEVOLUME|HYPOVOLEMIA:LVFAILURE][HR|CATECHOL][CVP|LVEDVOLUME][LVEDVOLUME|HYPOVOLEMIA:LVFAILURE][DISCONNECT][ERRCAUTER][ERRLOWOUTPUT][EXPCO2|ARTCO2:VENTLUNG][VENTLUNG|KINKEDTUBE:VENTTUBE:INTUBATION][FIO2][HISTORY][HRBP|HR:ERRLOWOUTPUT][HREKG|HR:ERRCAUTER][HRSAT|HR:ERRCAUTER][HYPOVOLEMIA][INSUFFANESTH][INTUBATION][KINKEDTUBE][LVFAILURE|HISTORY][MINVOL|VENTLUNG:INTUBATION][MINVOLSET][PAP|PULMEMBOLUS][PULMEMBOLUS][PCWP|LVEDVOLUME][PRESS|KINKEDTUBE:VENTTUBE:INTUBATION][VENTTUBE|VENTMACH:DISCONNECT][PVSAT|VENTALV:FIO2][SAO2|SHUNT:PVSAT][SHUNT|PULMEMBOLUS:INTUBATION][VENTMACH|MINVOLSET]\n",
      "**********\n",
      "CPDAG:\n",
      "Vertices: ANAPHYLAXIS,ARTCO2,VENTALV,BP,TPR,CO,CATECHOL,STROKEVOLUME,HR,CVP,LVEDVOLUME,DISCONNECT,ERRCAUTER,ERRLOWOUTPUT,EXPCO2,VENTLUNG,FIO2,HISTORY,HRBP,HREKG,HRSAT,HYPOVOLEMIA,INSUFFANESTH,INTUBATION,KINKEDTUBE,LVFAILURE,MINVOL,MINVOLSET,PAP,PULMEMBOLUS,PCWP,PRESS,VENTTUBE,PVSAT,SAO2,SHUNT,VENTMACH\n",
      "ANAPHYLAXIS-TPR\n",
      "ARTCO2->CATECHOL\n",
      "ARTCO2->EXPCO2\n",
      "VENTALV->ARTCO2\n",
      "VENTALV->PVSAT\n",
      "TPR->BP\n",
      "TPR->CATECHOL\n",
      "CO->BP\n",
      "CATECHOL->HR\n",
      "STROKEVOLUME->CO\n",
      "HR->CO\n",
      "HR->HRBP\n",
      "HR->HREKG\n",
      "HR->HRSAT\n",
      "LVEDVOLUME->CVP\n",
      "LVEDVOLUME->PCWP\n",
      "DISCONNECT->VENTTUBE\n",
      "ERRCAUTER->HREKG\n",
      "ERRCAUTER->HRSAT\n",
      "ERRLOWOUTPUT->HRBP\n",
      "VENTLUNG->EXPCO2\n",
      "VENTLUNG->MINVOL\n",
      "VENTLUNG->VENTALV\n",
      "FIO2->PVSAT\n",
      "HISTORY-LVFAILURE\n",
      "HYPOVOLEMIA->LVEDVOLUME\n",
      "HYPOVOLEMIA->STROKEVOLUME\n",
      "INTUBATION-MINVOL\n",
      "INTUBATION->PRESS\n",
      "INTUBATION->SHUNT\n",
      "INTUBATION-VENTALV\n",
      "INTUBATION->VENTLUNG\n",
      "KINKEDTUBE->PRESS\n",
      "KINKEDTUBE->VENTLUNG\n",
      "LVFAILURE->LVEDVOLUME\n",
      "LVFAILURE->STROKEVOLUME\n",
      "MINVOLSET-VENTMACH\n",
      "PULMEMBOLUS-PAP\n",
      "PULMEMBOLUS->SHUNT\n",
      "VENTTUBE->PRESS\n",
      "VENTTUBE->VENTLUNG\n",
      "PVSAT->SAO2\n",
      "SHUNT->SAO2\n",
      "VENTMACH->VENTTUBE\n",
      "\n"
     ]
    },
    {
     "data": {
      "image/png": "[encoded data removed]",
      "text/plain": [
       "<Figure size 432x288 with 1 Axes>"
      ]
     },
     "metadata": {},
     "output_type": "display_data"
    }
   ],
   "source": [
    "m2 = Gobnilp(gurobi_output=True)\n",
    "m2.learn('alarm_10000.dat')"
   ]
  },
  {
   "cell_type": "markdown",
   "metadata": {},
   "source": [
    "**This section needs updating**\n",
    "\n",
    "Without the independence constraint solving takes 190 seconds (as opposed to 321 seconds), even though the set of allowed BNs is greater without the constraint. This is basically because Gobnilp is optimised for the case where the only constraint is that the BN is acyclic. \n",
    "\n",
    "The number of \"Lazy constraints\" posted in the two runs is worth examining: without the constraint there are only 8 but with the independence constraint there are 1153. This is because Gobnilp is adding constraints ruling out BNs (strictly speaking ancestral subgraphs of BNs) which do not satisfy the independence constraint. This is a crude method of enforcing (conditional) independence constraints and this adds to the slowness of solving."
   ]
  }
 ],
 "metadata": {
  "kernelspec": {
   "display_name": "Python 3",
   "language": "python",
   "name": "python3"
  },
  "language_info": {
   "codemirror_mode": {
    "name": "ipython",
    "version": 3
   },
   "file_extension": ".py",
   "mimetype": "text/x-python",
   "name": "python",
   "nbconvert_exporter": "python",
   "pygments_lexer": "ipython3",
   "version": "3.6.9"
  }
 },
 "nbformat": 4,
 "nbformat_minor": 2
}
