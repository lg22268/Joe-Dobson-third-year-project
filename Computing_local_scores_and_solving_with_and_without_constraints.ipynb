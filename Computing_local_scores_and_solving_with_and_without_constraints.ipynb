{
 "cells": [
  {
   "cell_type": "markdown",
   "metadata": {},
   "source": [
    "We start, as normal, by creating a `Gobnilp` object to work with:"
   ]
  },
  {
   "cell_type": "code",
   "execution_count": 1,
   "metadata": {},
   "outputs": [
    {
     "name": "stdout",
     "output_type": "stream",
     "text": [
      "\n",
      "--------------------------------------------\n",
      "Warning: your license will expire in 12 days\n",
      "--------------------------------------------\n",
      "\n",
      "Academic license - for non-commercial use only\n"
     ]
    }
   ],
   "source": [
    "from gobnilp import Gobnilp\n",
    "m = Gobnilp()"
   ]
  },
  {
   "cell_type": "markdown",
   "metadata": {},
   "source": [
    "Now we will create and store 'local scores' from the built-in `alarm_10000.dat` dataset:"
   ]
  },
  {
   "cell_type": "code",
   "execution_count": 2,
   "metadata": {},
   "outputs": [],
   "source": [
    "m.learn('alarm_10000.dat',end='local scores stored')"
   ]
  },
  {
   "cell_type": "markdown",
   "metadata": {},
   "source": [
    "Note that, since we have stated that learning should `end` after local scores have been computed and stored, a BN is not learned. The computation of these local scores is not immediate, but should not take too long. Since no local score function was specified and no data type specified either, the data will be assumed to be discrete and a BDeu score will be used. \n",
    "\n",
    "The local scores are saved in a dictionary which is the `local_scores` attribute of the `Gobnilp` object. The keys of this dictionary are the BN variables (the names of these variables are given on the first line of `alarm_10000.dat`). "
   ]
  },
  {
   "cell_type": "code",
   "execution_count": 3,
   "metadata": {},
   "outputs": [
    {
     "name": "stdout",
     "output_type": "stream",
     "text": [
      "dict_keys(['ANAPHYLAXIS', 'ARTCO2', 'BP', 'CATECHOL', 'CO', 'CVP', 'DISCONNECT', 'ERRCAUTER', 'ERRLOWOUTPUT', 'EXPCO2', 'FIO2', 'HISTORY', 'HR', 'HRBP', 'HREKG', 'HRSAT', 'HYPOVOLEMIA', 'INSUFFANESTH', 'INTUBATION', 'KINKEDTUBE', 'LVEDVOLUME', 'LVFAILURE', 'MINVOL', 'MINVOLSET', 'PAP', 'PCWP', 'PRESS', 'PULMEMBOLUS', 'PVSAT', 'SAO2', 'SHUNT', 'STROKEVOLUME', 'TPR', 'VENTALV', 'VENTLUNG', 'VENTMACH', 'VENTTUBE'])\n"
     ]
    }
   ],
   "source": [
    "print(m.local_scores.keys())"
   ]
  },
  {
   "cell_type": "markdown",
   "metadata": {},
   "source": [
    "The value associated with each BN variable is a dictionary mapping potential parent sets for that variable to a local score - which states, intuitively, how good it would be for that parent set to be selected. We find that there is variation in the number of parent sets stored:"
   ]
  },
  {
   "cell_type": "code",
   "execution_count": 4,
   "metadata": {},
   "outputs": [
    {
     "name": "stdout",
     "output_type": "stream",
     "text": [
      "ANAPHYLAXIS 5\n",
      "ARTCO2 473\n",
      "BP 266\n",
      "CATECHOL 383\n",
      "CO 469\n",
      "CVP 32\n",
      "DISCONNECT 127\n",
      "ERRCAUTER 22\n",
      "ERRLOWOUTPUT 14\n",
      "EXPCO2 176\n",
      "FIO2 18\n",
      "HISTORY 36\n",
      "HR 154\n",
      "HRBP 135\n",
      "HREKG 122\n",
      "HRSAT 122\n",
      "HYPOVOLEMIA 57\n",
      "INSUFFANESTH 1\n",
      "INTUBATION 211\n",
      "KINKEDTUBE 41\n",
      "LVEDVOLUME 64\n",
      "LVFAILURE 84\n",
      "MINVOL 371\n",
      "MINVOLSET 96\n",
      "PAP 3\n",
      "PCWP 43\n",
      "PRESS 212\n",
      "PULMEMBOLUS 10\n",
      "PVSAT 440\n",
      "SAO2 471\n",
      "SHUNT 162\n",
      "STROKEVOLUME 109\n",
      "TPR 173\n",
      "VENTALV 472\n",
      "VENTLUNG 448\n",
      "VENTMACH 134\n",
      "VENTTUBE 317\n"
     ]
    }
   ],
   "source": [
    "for child, scored_parentsets in m.local_scores.items():\n",
    "    print(child, len(scored_parentsets))"
   ]
  },
  {
   "cell_type": "markdown",
   "metadata": {},
   "source": [
    "ANAPHYLAXIS has a mere 5 parent sets whereas ARTCO2 has 473! This is because `Gobnilp` is using *pruning*. If a variable $X$ has potential parent set $S$ which is a superset of another potential parent set $T$ which has a higher score then $S$ is 'pruned' away. This is because, assuming we do not have any special constraints on allowed BNs, we can never have an optimal BN where $S$ is a parent set, since we could always replace $S$ with $T$ and get a higher scoring BN *without creating a cycle, since we would remove arrows*.\n",
    "\n",
    "It just so happens that more parent sets were pruned for ANAPHYLAXIS than ARTCO2. Let's look at the scored parent sets for ANAPHYLAXIS:"
   ]
  },
  {
   "cell_type": "code",
   "execution_count": 5,
   "metadata": {},
   "outputs": [
    {
     "name": "stdout",
     "output_type": "stream",
     "text": [
      "frozenset() -578.587070487134\n",
      "frozenset({'BP'}) -523.5582005530596\n",
      "frozenset({'CATECHOL'}) -577.4536694321869\n",
      "frozenset({'TPR'}) -471.48556937259855\n",
      "frozenset({'BP', 'HYPOVOLEMIA'}) -518.1711042499956\n"
     ]
    }
   ],
   "source": [
    "for parentset, score in m.local_scores['ANAPHYLAXIS'].items():\n",
    "    print(parentset, score)"
   ]
  },
  {
   "cell_type": "markdown",
   "metadata": {},
   "source": [
    "The empty set has the worst score of the 5 - if any of the non-empty parent set had a worse score it would be pruned.\n",
    "\n",
    "Each local score will be eventually be associated with a Gurobi MIP variable called a *family variable* (since it is associated with a 'child' variable and a parent set). The fewer of these family variables the better since the MIP will be smaller and thus easier for Gurobi to solve. If we have prior knowledge then this can \n",
    "1. reduce the number of local scores, and\n",
    "2. reduce the time required to compute the local scores\n",
    "\n",
    "To provide an example of how prior knowledge can help, let's see how often variables occur in the potential parent sets for ARTCO2:"
   ]
  },
  {
   "cell_type": "code",
   "execution_count": 6,
   "metadata": {},
   "outputs": [
    {
     "name": "stdout",
     "output_type": "stream",
     "text": [
      "Counter({'EXPCO2': 101, 'SHUNT': 98, 'INTUBATION': 93, 'DISCONNECT': 91, 'CATECHOL': 85, 'KINKEDTUBE': 75, 'MINVOLSET': 72, 'VENTMACH': 62, 'PRESS': 60, 'SAO2': 56, 'VENTLUNG': 50, 'VENTTUBE': 50, 'HR': 49, 'HREKG': 42, 'HRSAT': 42, 'HRBP': 41, 'TPR': 40, 'PVSAT': 37, 'MINVOL': 31, 'CO': 25, 'FIO2': 12, 'BP': 7, 'VENTALV': 5, 'STROKEVOLUME': 1})\n"
     ]
    }
   ],
   "source": [
    "from collections import Counter\n",
    "d = Counter()\n",
    "for parent_set in m.local_scores['ARTCO2']:\n",
    "    for v in parent_set:\n",
    "        d[v] += 1\n",
    "print(d)    "
   ]
  },
  {
   "cell_type": "markdown",
   "metadata": {},
   "source": [
    "So, for example KINKEDTUBE occurs in 75 parent sets. Now, suppose we knew that ARTCO2 and KINKEDTUNE had to be independent. Then we should provide this information to Gobnilp. We do this as follows:"
   ]
  },
  {
   "cell_type": "code",
   "execution_count": 7,
   "metadata": {},
   "outputs": [],
   "source": [
    "m.add_independence(['ARTCO2'],['KINKEDTUBE'])"
   ]
  },
  {
   "cell_type": "markdown",
   "metadata": {},
   "source": [
    "We can recompute the local scores with this new information available:"
   ]
  },
  {
   "cell_type": "code",
   "execution_count": 8,
   "metadata": {},
   "outputs": [],
   "source": [
    "m.learn(start='data',end='local scores stored')"
   ]
  },
  {
   "cell_type": "markdown",
   "metadata": {},
   "source": [
    "And now we can check that there should be 75 fewer parents for ARTCO2, and also some reduction in the parent sets for KINKEDTUBE. "
   ]
  },
  {
   "cell_type": "code",
   "execution_count": 9,
   "metadata": {},
   "outputs": [
    {
     "name": "stdout",
     "output_type": "stream",
     "text": [
      "398\n",
      "32\n"
     ]
    }
   ],
   "source": [
    "print(len(m.local_scores['ARTCO2']))\n",
    "print(len(m.local_scores['KINKEDTUBE']))"
   ]
  },
  {
   "cell_type": "markdown",
   "metadata": {},
   "source": [
    "As expected there are $398 = 473 - 75$ fewere parent sets for ARTCO2, and also some reduction in the number of parent sets for KINKEDTUBE. This is because we asserted an independence constraint, which we can get to via the `obligatroy_conditional_indepedences` attribute:"
   ]
  },
  {
   "cell_type": "code",
   "execution_count": 10,
   "metadata": {},
   "outputs": [
    {
     "data": {
      "text/plain": [
       "{(frozenset({'ARTCO2'}), frozenset({'KINKEDTUBE'}), frozenset())}"
      ]
     },
     "execution_count": 10,
     "metadata": {},
     "output_type": "execute_result"
    }
   ],
   "source": [
    "m.obligatory_conditional_independences"
   ]
  },
  {
   "cell_type": "markdown",
   "metadata": {},
   "source": [
    "Note that the independence constraint is stored as a conditional independence constraint with an empty conditioning set (the 3rd set in the tuple above). Also note that `Gobnilp` is taking advantage of this constraint before a MIP problem has been created - to help reduce the number of local scores computed. Naturally this constraint is also taken into account when learning a BN (which is done by constructing and solving a MIP model) to ensure that any learned BN satisfies the constraint.\n",
    "\n",
    "When an independence (or conditional independence) constraint is added (by the user) `Gobnilp` deduces that certain other simpler constraints follow. In our current example, it is deduced that\n",
    "1. there can be no arrow between the two variables, and\n",
    "2. the two variables cannot be adjacent in the undirected skeleton"
   ]
  },
  {
   "cell_type": "code",
   "execution_count": 11,
   "metadata": {},
   "outputs": [
    {
     "data": {
      "text/plain": [
       "{('ARTCO2', 'KINKEDTUBE'), ('KINKEDTUBE', 'ARTCO2')}"
      ]
     },
     "execution_count": 11,
     "metadata": {},
     "output_type": "execute_result"
    }
   ],
   "source": [
    "m.forbidden_arrows"
   ]
  },
  {
   "cell_type": "code",
   "execution_count": 12,
   "metadata": {},
   "outputs": [
    {
     "data": {
      "text/plain": [
       "{frozenset({'ARTCO2', 'KINKEDTUBE'})}"
      ]
     },
     "execution_count": 12,
     "metadata": {},
     "output_type": "execute_result"
    }
   ],
   "source": [
    "m.forbidden_adjacencies"
   ]
  },
  {
   "cell_type": "markdown",
   "metadata": {},
   "source": [
    "Next, let's learn an optimal BN and check that it satisfies the given independence constraint. Since this is a reasonably hard BN learning problem, we'll get the output from Gurobi printed out so we can at least see the progress. We do this by setting the appropriate Gurobi attribute. "
   ]
  },
  {
   "cell_type": "code",
   "execution_count": 13,
   "metadata": {},
   "outputs": [
    {
     "name": "stdout",
     "output_type": "stream",
     "text": [
      "Changed value of parameter OutputFlag to 1\n",
      "   Prev: 0  Min: 0  Max: 1  Default: 1\n",
      "Changed value of parameter PoolSolutions to 1\n",
      "   Prev: 10  Min: 1  Max: 2000000000  Default: 10\n",
      "Changed value of parameter LazyConstraints to 1\n",
      "   Prev: 0  Min: 0  Max: 1  Default: 0\n",
      "Optimize a model with 2288 rows, 7349 columns and 158765 nonzeros\n",
      "Variable types: 0 continuous, 7349 integer (7349 binary)\n",
      "Coefficient statistics:\n",
      "  Matrix range     [1e+00, 1e+00]\n",
      "  Objective range  [1e+02, 1e+04]\n",
      "  Bounds range     [1e+00, 1e+00]\n",
      "  RHS range        [1e+00, 1e+00]\n",
      "Presolve removed 663 rows and 383 columns\n",
      "Presolve time: 0.60s\n",
      "Presolved: 1625 rows, 6966 columns, 85959 nonzeros\n",
      "Variable types: 0 continuous, 6966 integer (6966 binary)\n",
      "Found heuristic solution: objective -205904.1188\n",
      "Presolve removed 382 rows and 0 columns\n",
      "Presolved: 1245 rows, 6966 columns, 29748 nonzeros\n",
      "\n",
      "\n",
      "Root relaxation: objective -8.362617e+04, 208 iterations, 0.07 seconds\n",
      "\n",
      "    Nodes    |    Current Node    |     Objective Bounds      |     Work\n",
      " Expl Unexpl |  Obj  Depth IntInf | Incumbent    BestBd   Gap | It/Node Time\n",
      "\n",
      "     0     0 -83626.171    0   45 -205904.12 -83626.171  59.4%     -    0s\n",
      "     0     0 -85310.337    0   51 -205904.12 -85310.337  58.6%     -    1s\n",
      "     0     0 -85696.717    0   99 -205904.12 -85696.717  58.4%     -    1s\n",
      "     0     0 -86867.682    0  136 -205904.12 -86867.682  57.8%     -    2s\n",
      "     0     0 -88776.575    0   82 -205904.12 -88776.575  56.9%     -    2s\n",
      "     0     0 -89754.685    0  184 -205904.12 -89754.685  56.4%     -    2s\n",
      "     0     0 -91347.710    0  112 -205904.12 -91347.710  55.6%     -    3s\n",
      "     0     0 -92096.004    0  206 -205904.12 -92096.004  55.3%     -    4s\n",
      "     0     0 -94859.862    0  209 -205904.12 -94859.862  53.9%     -    4s\n",
      "     0     0 -97348.900    0  278 -205904.12 -97348.900  52.7%     -    5s\n",
      "     0     0 -97658.139    0  292 -205904.12 -97658.139  52.6%     -    5s\n",
      "     0     0 -100927.38    0  319 -205904.12 -100927.38  51.0%     -    6s\n",
      "     0     0 -101521.27    0  298 -205904.12 -101521.27  50.7%     -    8s\n",
      "     0     0 -101980.97    0  284 -205904.12 -101980.97  50.5%     -    9s\n",
      "     0     0 -102552.86    0  290 -205904.12 -102552.86  50.2%     -   10s\n",
      "     0     0 -102657.37    0  175 -205904.12 -102657.37  50.1%     -   11s\n",
      "     0     0 -102774.61    0  297 -205904.12 -102774.61  50.1%     -   11s\n",
      "     0     0 -102815.10    0  313 -205904.12 -102815.10  50.1%     -   12s\n",
      "     0     0 -103206.23    0  304 -205904.12 -103206.23  49.9%     -   14s\n",
      "     0     0 -103296.76    0  303 -205904.12 -103296.76  49.8%     -   14s\n",
      "     0     0 -103320.41    0  284 -205904.12 -103320.41  49.8%     -   15s\n",
      "     0     0 -103595.24    0  287 -205904.12 -103595.24  49.7%     -   16s\n",
      "     0     0 -103723.58    0  286 -205904.12 -103723.58  49.6%     -   18s\n",
      "     0     0 -103751.64    0  265 -205904.12 -103751.64  49.6%     -   19s\n",
      "     0     0 -103916.02    0  242 -205904.12 -103916.02  49.5%     -   20s\n",
      "     0     0 -103928.22    0  221 -205904.12 -103928.22  49.5%     -   21s\n",
      "     0     0 -104013.32    0  205 -205904.12 -104013.32  49.5%     -   21s\n",
      "     0     0 -104081.96    0  194 -205904.12 -104081.96  49.5%     -   22s\n",
      "     0     0 -104092.32    0  195 -205904.12 -104092.32  49.4%     -   23s\n",
      "     0     0 -104138.24    0  263 -205904.12 -104138.24  49.4%     -   25s\n",
      "     0     0 -104138.24    0  263 -205904.12 -104138.24  49.4%     -   30s\n",
      "     0     0 -104148.63    0  251 -205904.12 -104148.63  49.4%     -   32s\n",
      "     0     0 -104154.87    0   96 -205904.12 -104154.87  49.4%     -   33s\n",
      "     0     0 -104295.50    0  149 -205904.12 -104295.50  49.3%     -   34s\n",
      "     0     0 -104369.91    0  213 -205904.12 -104369.91  49.3%     -   35s\n",
      "     0     0 -104373.89    0  177 -205904.12 -104373.89  49.3%     -   36s\n",
      "     0     0 -104391.82    0  232 -205904.12 -104391.82  49.3%     -   37s\n",
      "     0     0 -104399.09    0  237 -205904.12 -104399.09  49.3%     -   39s\n",
      "     0     0 -104461.74    0  298 -205904.12 -104461.74  49.3%     -   41s\n",
      "     0     0 -104473.21    0  305 -205904.12 -104473.21  49.3%     -   42s\n",
      "     0     0 -104474.69    0  332 -205904.12 -104474.69  49.3%     -   43s\n",
      "     0     0 -104478.77    0  210 -205904.12 -104478.77  49.3%     -   45s\n",
      "     0     0 -104497.59    0  328 -205904.12 -104497.59  49.2%     -   47s\n",
      "     0     0 -104501.24    0  294 -205904.12 -104501.24  49.2%     -   49s\n",
      "     0     0 -104502.94    0  325 -205904.12 -104502.94  49.2%     -   49s\n",
      "     0     0 -104529.40    0  272 -205904.12 -104529.40  49.2%     -   51s\n",
      "     0     0 -104532.89    0  218 -205904.12 -104532.89  49.2%     -   54s\n",
      "     0     0 -104532.89    0  218 -205904.12 -104532.89  49.2%     -   55s\n",
      "     0     0 -104533.36    0  247 -205904.12 -104533.36  49.2%     -   55s\n",
      "     0     0 -104573.13    0  426 -205904.12 -104573.13  49.2%     -   57s\n",
      "     0     0 -104578.61    0  414 -205904.12 -104578.61  49.2%     -   57s\n",
      "     0     0 -104579.94    0  322 -205904.12 -104579.94  49.2%     -   58s\n",
      "     0     0 -104581.04    0  397 -205904.12 -104581.04  49.2%     -   60s\n",
      "     0     0 -104581.04    0  394 -205904.12 -104581.04  49.2%     -   62s\n",
      "     0     2 -104581.04    0  394 -205904.12 -104581.04  49.2%     -   63s\n",
      "    20    21 -104616.15    9  275 -205904.12 -104586.07  49.2%   209   65s\n",
      "    90    88 -105021.48   26    - -205904.12 -104586.07  49.2%   179   70s\n",
      "   234   220 -105864.67   73    7 -205904.12 -104596.70  49.2%   120   75s\n",
      "   295   272 -104786.63    4  292 -205904.12 -104599.60  49.2%   114   81s\n",
      "   337   314 -104907.83   10  168 -205904.12 -104599.60  49.2%   134   85s\n",
      "   591   538 -104893.76    8  380 -205904.12 -104603.32  49.2%   116   92s\n",
      "H  605   495                    -105600.6665 -104603.32  0.94%   116   93s\n",
      "   654   516 -104897.91    9  371 -105600.67 -104603.32  0.94%   118   95s\n",
      "   726   588 -105570.70  125  394 -105600.67 -104603.32  0.94%   127  101s\n",
      "   740   597 -105035.10   33  431 -105600.67 -104626.74  0.92%   125  106s\n",
      "H  742   568                    -105540.4939 -104646.86  0.85%   125  108s\n",
      "   743   568 -105110.54   31  449 -105540.49 -104646.86  0.85%   125  119s\n",
      "   745   570 -105307.45   59  441 -105540.49 -104647.13  0.85%   124  122s\n",
      "   750   573 -105191.74   58  464 -105540.49 -104652.76  0.84%   123  126s\n",
      "   755   576 -104904.78   20  441 -105540.49 -104660.56  0.83%   123  133s\n",
      "   757   578 -105048.80   18  439 -105540.49 -104660.56  0.83%   122  139s\n",
      "   758   581 -104724.62   12  421 -105540.49 -104660.57  0.83%   129  142s\n",
      "   760   583 -104800.81   13  402 -105540.49 -104727.68  0.77%   130  145s\n",
      "   821   613 -105079.74   27  157 -105540.49 -104886.04  0.62%   136  150s\n",
      "   929   648 -104958.86   17  359 -105540.49 -104887.24  0.62%   135  155s\n",
      "  1173   750 -105489.44   44    - -105540.49 -104950.76  0.56%   123  160s\n",
      "  1414   820 -105514.30   51  154 -105540.49 -104981.53  0.53%   115  165s\n",
      "  1648   860 -105438.36   45  223 -105540.49 -105000.58  0.51%   113  170s\n",
      "  1952   952     cutoff   43      -105540.49 -105051.63  0.46%   106  175s\n",
      "H 2146  1001                    -105540.4900 -105057.75  0.46%   102  179s\n",
      "H 2195   581                    -105331.8158 -105057.75  0.26%   101  179s\n",
      "  2229   571     cutoff   74      -105331.82 -105057.82  0.26%   100  180s\n",
      "  2562   666 -105309.56   35   80 -105331.82 -105098.89  0.22%  96.7  186s\n",
      "  2879   793 -105307.88   37    6 -105331.82 -105115.78  0.21%  93.6  192s\n",
      "  3148   885     cutoff   49      -105331.82 -105130.34  0.19%  91.3  195s\n",
      "  3469  1015 -105303.96   40  118 -105331.82 -105146.80  0.18%  87.9  200s\n",
      "  3797  1091 -105316.72   41    8 -105331.82 -105159.20  0.16%  86.3  205s\n",
      "  4255  1190     cutoff   43      -105331.82 -105174.66  0.15%  83.6  210s\n",
      "  4702  1299 -105323.23   25  130 -105331.82 -105185.83  0.14%  81.2  216s\n",
      "  5118  1377     cutoff   26      -105331.82 -105202.19  0.12%  79.2  220s\n",
      "  5536  1457 -105301.88   49    - -105331.82 -105213.35  0.11%  77.4  226s\n",
      "  6011  1531     cutoff   53      -105331.82 -105222.73  0.10%  75.3  230s\n",
      "  6651  1604 -105283.23   53    7 -105331.82 -105237.62  0.09%  72.9  235s\n",
      "  7028  1542 -105268.92   37  261 -105331.82 -105246.96  0.08%  71.7  241s\n",
      "  7589  1587     cutoff   50      -105331.82 -105254.29  0.07%  69.3  245s\n"
     ]
    },
    {
     "name": "stdout",
     "output_type": "stream",
     "text": [
      "  8387  1561     cutoff   55      -105331.82 -105263.63  0.06%  65.9  251s\n",
      "  8749  1577 -105313.61   31    - -105331.82 -105269.70  0.06%  64.4  256s\n",
      "  9164  1641 -105323.14   47    4 -105331.82 -105272.87  0.06%  62.7  261s\n",
      "  9717  1667     cutoff   55      -105331.82 -105275.75  0.05%  60.7  265s\n",
      " 10560  1736     cutoff   51      -105331.82 -105279.76  0.05%  57.6  270s\n",
      " 11295  1870 -105328.12   52    4 -105331.82 -105283.16  0.05%  55.1  275s\n",
      " 12142  1916 -105328.01   42   22 -105331.82 -105286.68  0.04%  52.6  280s\n",
      " 13222  2013     cutoff   55      -105331.82 -105291.14  0.04%  49.7  285s\n",
      " 14270  2022     cutoff   59      -105331.82 -105293.42  0.04%  47.3  290s\n",
      " 14892  2038 -105318.93   61    - -105331.82 -105296.02  0.03%  46.0  295s\n",
      " 15922  2013 -105318.99   56   10 -105331.82 -105298.41  0.03%  44.0  300s\n",
      " 17200  1892 -105324.09   32   21 -105331.82 -105301.62  0.03%  41.9  305s\n",
      " 18269  1771 -105320.18   51  115 -105331.82 -105304.27  0.03%  40.3  310s\n",
      " 19671  1554 -105325.91   48   10 -105331.82 -105308.52  0.02%  38.4  315s\n",
      " 21003  1080 -105314.12   35    9 -105331.82 -105314.12  0.02%  36.9  320s\n",
      " 22246   637 -105322.78   59   43 -105331.82 -105321.04  0.01%  35.5  325s\n",
      "\n",
      "Cutting planes:\n",
      "  User: 165\n",
      "  Gomory: 6\n",
      "  Cover: 1\n",
      "  MIR: 1\n",
      "  Flow cover: 13\n",
      "  Inf proof: 1\n",
      "  Zero half: 56\n",
      "  Lazy constraints: 1222\n",
      "\n",
      "Explored 23502 nodes (807524 simplex iterations) in 329.25 seconds\n",
      "Thread count was 4 (of 4 available processors)\n",
      "\n",
      "Solution count 1: -105332 \n",
      "\n",
      "Optimal solution found (tolerance 0.00e+00)\n",
      "Best objective -1.053318157525e+05, best bound -1.053318157525e+05, gap 0.0000%\n",
      "Parameter SolutionNumber unchanged\n",
      "   Value: 0  Min: 0  Max: 2000000000  Default: 0\n",
      "**********\n",
      "BN has score -105331.81575247279\n",
      "**********\n",
      "ANAPHYLAXIS<-TPR -471.48556937259855\n",
      "TPR<- -10901.914716929197\n",
      "ARTCO2<-VENTALV -1816.018107669981\n",
      "VENTALV<-INTUBATION,VENTLUNG -1785.1568955858966\n",
      "BP<-CO,TPR -4927.804606748883\n",
      "CO<-HR,STROKEVOLUME -2678.9117199075263\n",
      "CATECHOL<-ARTCO2,TPR -1521.3018734225625\n",
      "HR<-CATECHOL -3744.599767304855\n",
      "STROKEVOLUME<-HYPOVOLEMIA,LVFAILURE -4437.288938131533\n",
      "CVP<-LVEDVOLUME -3006.6153021322098\n",
      "LVEDVOLUME<-HYPOVOLEMIA,LVFAILURE -3613.5057310384145\n",
      "DISCONNECT<-VENTTUBE -1567.6065855929191\n",
      "VENTTUBE<-INTUBATION,KINKEDTUBE,VENTLUNG -4542.004684191837\n",
      "ERRCAUTER<- -3222.576822231058\n",
      "ERRLOWOUTPUT<- -1972.2788189759885\n",
      "EXPCO2<-ARTCO2,VENTLUNG -1772.6591272249061\n",
      "VENTLUNG<-INTUBATION -6995.486513923519\n",
      "FIO2<- -1888.6286705336533\n",
      "HISTORY<- -2091.7769199432223\n",
      "HRBP<-ERRLOWOUTPUT,HR -1331.6218853034952\n",
      "HREKG<-ERRCAUTER,HR -1507.9736736634077\n",
      "HRSAT<-ERRCAUTER,HR -1452.085102920726\n",
      "HYPOVOLEMIA<- -4990.780506105162\n",
      "INSUFFANESTH<- -3303.7325344726705\n",
      "INTUBATION<- -3428.3602719444025\n",
      "KINKEDTUBE<- -1558.2831144287484\n",
      "LVFAILURE<-HISTORY -556.2566040066595\n",
      "MINVOL<-INTUBATION,VENTLUNG -2061.9057414227136\n",
      "MINVOLSET<-VENTMACH -946.5564916227886\n",
      "VENTMACH<-DISCONNECT,VENTTUBE -1896.468405037347\n",
      "PAP<- -4194.791057672541\n",
      "PCWP<-LVEDVOLUME -2233.68753796065\n",
      "PRESS<-INTUBATION,KINKEDTUBE,VENTTUBE -8478.131859909445\n",
      "PULMEMBOLUS<-PAP -396.6111867858417\n",
      "PVSAT<-FIO2,VENTALV -846.3768118197768\n",
      "SAO2<-PVSAT,SHUNT -1137.5909747223777\n",
      "SHUNT<-INTUBATION,PULMEMBOLUS -2052.9806218132726\n",
      "**********\n",
      "bnlearn modelstring = \n",
      "[ANAPHYLAXIS|TPR][TPR][ARTCO2|VENTALV][VENTALV|VENTLUNG:INTUBATION][BP|TPR:CO][CO|HR:STROKEVOLUME][CATECHOL|TPR:ARTCO2][HR|CATECHOL][STROKEVOLUME|HYPOVOLEMIA:LVFAILURE][CVP|LVEDVOLUME][LVEDVOLUME|HYPOVOLEMIA:LVFAILURE][DISCONNECT|VENTTUBE][VENTTUBE|VENTLUNG:KINKEDTUBE:INTUBATION][ERRCAUTER][ERRLOWOUTPUT][EXPCO2|VENTLUNG:ARTCO2][VENTLUNG|INTUBATION][FIO2][HISTORY][HRBP|ERRLOWOUTPUT:HR][HREKG|ERRCAUTER:HR][HRSAT|ERRCAUTER:HR][HYPOVOLEMIA][INSUFFANESTH][INTUBATION][KINKEDTUBE][LVFAILURE|HISTORY][MINVOL|VENTLUNG:INTUBATION][MINVOLSET|VENTMACH][VENTMACH|DISCONNECT:VENTTUBE][PAP][PCWP|LVEDVOLUME][PRESS|KINKEDTUBE:INTUBATION:VENTTUBE][PULMEMBOLUS|PAP][PVSAT|VENTALV:FIO2][SAO2|SHUNT:PVSAT][SHUNT|PULMEMBOLUS:INTUBATION]\n",
      "**********\n",
      "CPDAG:\n",
      "Vertices: ANAPHYLAXIS,TPR,ARTCO2,VENTALV,BP,CO,CATECHOL,HR,STROKEVOLUME,CVP,LVEDVOLUME,DISCONNECT,VENTTUBE,ERRCAUTER,ERRLOWOUTPUT,EXPCO2,VENTLUNG,FIO2,HISTORY,HRBP,HREKG,HRSAT,HYPOVOLEMIA,INSUFFANESTH,INTUBATION,KINKEDTUBE,LVFAILURE,MINVOL,MINVOLSET,VENTMACH,PAP,PCWP,PRESS,PULMEMBOLUS,PVSAT,SAO2,SHUNT\n",
      "TPR-ANAPHYLAXIS\n",
      "TPR->BP\n",
      "TPR->CATECHOL\n",
      "ARTCO2->CATECHOL\n",
      "ARTCO2->EXPCO2\n",
      "VENTALV-ARTCO2\n",
      "VENTALV->PVSAT\n",
      "CO->BP\n",
      "CATECHOL->HR\n",
      "HR->CO\n",
      "HR->HRBP\n",
      "HR->HREKG\n",
      "HR->HRSAT\n",
      "STROKEVOLUME->CO\n",
      "LVEDVOLUME->CVP\n",
      "LVEDVOLUME->PCWP\n",
      "DISCONNECT-VENTMACH\n",
      "VENTTUBE->DISCONNECT\n",
      "VENTTUBE->PRESS\n",
      "VENTTUBE->VENTMACH\n",
      "ERRCAUTER->HREKG\n",
      "ERRCAUTER->HRSAT\n",
      "ERRLOWOUTPUT->HRBP\n",
      "VENTLUNG->EXPCO2\n",
      "VENTLUNG-MINVOL\n",
      "VENTLUNG-VENTALV\n",
      "VENTLUNG->VENTTUBE\n",
      "FIO2->PVSAT\n",
      "HISTORY-LVFAILURE\n",
      "HYPOVOLEMIA->LVEDVOLUME\n",
      "HYPOVOLEMIA->STROKEVOLUME\n",
      "INTUBATION-MINVOL\n",
      "INTUBATION->PRESS\n",
      "INTUBATION->SHUNT\n",
      "INTUBATION-VENTALV\n",
      "INTUBATION-VENTLUNG\n",
      "INTUBATION->VENTTUBE\n",
      "KINKEDTUBE->PRESS\n",
      "KINKEDTUBE->VENTTUBE\n",
      "LVFAILURE->LVEDVOLUME\n",
      "LVFAILURE->STROKEVOLUME\n",
      "VENTMACH->MINVOLSET\n",
      "PAP-PULMEMBOLUS\n",
      "PULMEMBOLUS->SHUNT\n",
      "PVSAT->SAO2\n",
      "SHUNT->SAO2\n",
      "\n"
     ]
    },
    {
     "data": {
      "image/png": "[encoded data removed]",
      "text/plain": [
       "<Figure size 432x288 with 1 Axes>"
      ]
     },
     "metadata": {},
     "output_type": "display_data"
    }
   ],
   "source": [
    "m.setParam('OutputFlag',True)\n",
    "m.learn(start='local scores stored') # construct a MIP model and get Gurobi to solve it"
   ]
  },
  {
   "cell_type": "markdown",
   "metadata": {},
   "source": [
    "Although this is quite a large network it is easy to see that ARTCO2 and KINKEDTUBE are indeed independent. This is because neither have any parents.\n",
    "\n",
    "Gobnilp/Gurobi took quite a while (321 seconds) to find a provably optimal BN in this case (and recall that we are running with the default parent set limit of 3 - were we to raise that solving would take longer still). As is normal Gobnilp spent some time (here 73 seconds) adding cutting planes to reduce the upper bound on the score of an optimal BN from an original upper bound of -83626.171 down to -104594.63. Then Gurobi builds a search tree by branching on the values of MIP variables, finally finding a BN with a reasonable score at node 728 of this tree. Although at this point we know that the incumbent is close to the best possible BN (gap = 0.78%) it takes quite a while longer and thousands more search nodes before we can be sure we have an optimal BN. (In fact an optimal, as opposed to close-to-optimal BN, is not found until near the end of the search at node 13577.)\n",
    "\n",
    "It is interesting to compare this to what happens when we learn from this dataset with *no extra constraints*:"
   ]
  },
  {
   "cell_type": "code",
   "execution_count": 14,
   "metadata": {},
   "outputs": [
    {
     "name": "stdout",
     "output_type": "stream",
     "text": [
      "Parameter OutputFlag unchanged\n",
      "   Value: 1  Min: 0  Max: 1  Default: 1\n",
      "Changed value of parameter PreCrush to 1\n",
      "   Prev: 0  Min: 0  Max: 1  Default: 0\n",
      "Changed value of parameter CutPasses to 100000\n",
      "   Prev: -1  Min: -1  Max: 2000000000  Default: -1\n",
      "Changed value of parameter GomoryPasses to 100000\n",
      "   Prev: -1  Min: -1  Max: 2000000000  Default: -1\n",
      "Changed value of parameter MIPFocus to 2\n",
      "   Prev: 0  Min: 0  Max: 3  Default: 0\n",
      "Changed value of parameter MIPGap to 0.0\n",
      "   Prev: 0.0001  Min: 0.0  Max: 1e+100  Default: 0.0001\n",
      "Changed value of parameter MIPGapAbs to 0.0\n",
      "   Prev: 1e-10  Min: 0.0  Max: 1e+100  Default: 1e-10\n",
      "Changed value of parameter PoolSolutions to 1\n",
      "   Prev: 10  Min: 1  Max: 2000000000  Default: 10\n",
      "Changed value of parameter LazyConstraints to 1\n",
      "   Prev: 0  Min: 0  Max: 1  Default: 0\n",
      "Optimize a model with 2304 rows, 7437 columns and 161370 nonzeros\n",
      "Variable types: 0 continuous, 7437 integer (7437 binary)\n",
      "Coefficient statistics:\n",
      "  Matrix range     [1e+00, 1e+00]\n",
      "  Objective range  [1e+02, 1e+04]\n",
      "  Bounds range     [1e+00, 1e+00]\n",
      "  RHS range        [1e+00, 1e+00]\n",
      "Presolve removed 663 rows and 382 columns\n",
      "Presolve time: 0.57s\n",
      "Presolved: 1641 rows, 7055 columns, 87103 nonzeros\n",
      "Variable types: 0 continuous, 7055 integer (7055 binary)\n",
      "Found heuristic solution: objective -205904.1188\n",
      "Presolve removed 384 rows and 0 columns\n",
      "Presolved: 1259 rows, 7055 columns, 29929 nonzeros\n",
      "\n",
      "\n",
      "Root relaxation: objective -8.362617e+04, 209 iterations, 0.07 seconds\n",
      "\n",
      "    Nodes    |    Current Node    |     Objective Bounds      |     Work\n",
      " Expl Unexpl |  Obj  Depth IntInf | Incumbent    BestBd   Gap | It/Node Time\n",
      "\n",
      "     0     0 -83626.171    0   45 -205904.12 -83626.171  59.4%     -    0s\n",
      "     0     0 -85310.337    0   51 -205904.12 -85310.337  58.6%     -    1s\n",
      "     0     0 -85879.634    0   64 -205904.12 -85879.634  58.3%     -    1s\n",
      "     0     0 -86213.541    0   48 -205904.12 -86213.541  58.1%     -    1s\n",
      "     0     0 -87161.221    0   76 -205904.12 -87161.221  57.7%     -    2s\n",
      "     0     0 -88652.518    0   83 -205904.12 -88652.518  56.9%     -    2s\n",
      "     0     0 -88709.688    0   75 -205904.12 -88709.688  56.9%     -    2s\n",
      "     0     0 -88781.794    0  121 -205904.12 -88781.794  56.9%     -    3s\n",
      "     0     0 -90260.283    0  152 -205904.12 -90260.283  56.2%     -    4s\n",
      "     0     0 -90578.149    0  184 -205904.12 -90578.149  56.0%     -    4s\n",
      "     0     0 -90678.455    0  214 -205904.12 -90678.455  56.0%     -    5s\n",
      "     0     0 -99019.442    0  166 -205904.12 -99019.442  51.9%     -    5s\n",
      "     0     0 -101286.41    0  281 -205904.12 -101286.41  50.8%     -    6s\n",
      "     0     0 -102499.38    0  249 -205904.12 -102499.38  50.2%     -    6s\n",
      "     0     0 -103042.55    0  289 -205904.12 -103042.55  50.0%     -    7s\n",
      "     0     0 -103258.96    0  263 -205904.12 -103258.96  49.9%     -    9s\n",
      "     0     0 -103345.34    0  262 -205904.12 -103345.34  49.8%     -   10s\n",
      "     0     0 -103462.01    0  237 -205904.12 -103462.01  49.8%     -   11s\n",
      "     0     0 -103545.27    0  198 -205904.12 -103545.27  49.7%     -   12s\n",
      "     0     0 -103619.68    0  263 -205904.12 -103619.68  49.7%     -   13s\n",
      "     0     0 -103657.43    0  250 -205904.12 -103657.43  49.7%     -   14s\n",
      "     0     0 -103720.72    0  264 -205904.12 -103720.72  49.6%     -   16s\n",
      "     0     0 -103870.08    0  326 -205904.12 -103870.08  49.6%     -   17s\n",
      "     0     0 -103914.53    0  282 -205904.12 -103914.53  49.5%     -   18s\n",
      "     0     0 -103988.37    0  222 -205904.12 -103988.37  49.5%     -   19s\n",
      "     0     0 -103998.92    0  275 -205904.12 -103998.92  49.5%     -   19s\n",
      "     0     0 -104025.73    0  271 -205904.12 -104025.73  49.5%     -   20s\n",
      "     0     0 -104115.97    0  292 -205904.12 -104115.97  49.4%     -   22s\n",
      "     0     0 -104119.56    0  283 -205904.12 -104119.56  49.4%     -   24s\n",
      "     0     0 -104134.11    0  268 -205904.12 -104134.11  49.4%     -   24s\n",
      "     0     0 -104136.94    0  280 -205904.12 -104136.94  49.4%     -   26s\n",
      "     0     0 -104154.49    0  128 -205904.12 -104154.49  49.4%     -   26s\n",
      "     0     0 -104155.01    0  118 -205904.12 -104155.01  49.4%     -   27s\n",
      "     0     0 -104222.59    0  226 -205904.12 -104222.59  49.4%     -   27s\n",
      "     0     0 -104230.04    0  250 -205904.12 -104230.04  49.4%     -   28s\n",
      "     0     0 -104288.20    0  270 -205904.12 -104288.20  49.4%     -   31s\n",
      "H    0     0                    -107879.8323 -104288.20  3.33%     -   32s\n",
      "     0     0 -104298.80    0  237 -107879.83 -104298.80  3.32%     -   32s\n",
      "     0     0 -104299.23    0  197 -107879.83 -104299.23  3.32%     -   33s\n",
      "     0     0 -104351.34    0  231 -107879.83 -104351.34  3.27%     -   33s\n",
      "     0     0 -104351.34    0  231 -107879.83 -104351.34  3.27%     -   35s\n",
      "     0     0 -104377.89    0  230 -107879.83 -104377.89  3.25%     -   40s\n",
      "     0     0 -104383.20    0  224 -107879.83 -104383.20  3.24%     -   41s\n",
      "     0     0 -104383.88    0  224 -107879.83 -104383.88  3.24%     -   41s\n",
      "     0     0 -104409.67    0  272 -107879.83 -104409.67  3.22%     -   42s\n",
      "     0     0 -104413.43    0  223 -107879.83 -104413.43  3.21%     -   44s\n",
      "     0     0 -104413.64    0  263 -107879.83 -104413.64  3.21%     -   44s\n",
      "     0     0 -104418.71    0  217 -107879.83 -104418.71  3.21%     -   45s\n",
      "H    0     0                    -107649.8467 -104418.71  3.00%     -   46s\n",
      "     0     0 -104426.43    0  258 -107649.85 -104426.43  2.99%     -   47s\n",
      "     0     0 -104429.51    0  294 -107649.85 -104429.51  2.99%     -   49s\n",
      "     0     0 -104430.35    0  303 -107649.85 -104430.35  2.99%     -   50s\n",
      "     0     0 -104464.19    0  251 -107649.85 -104464.19  2.96%     -   51s\n",
      "H    0     0                    -106681.3986 -104464.19  2.08%     -   51s\n",
      "     0     0 -104467.05    0  365 -106681.40 -104467.05  2.08%     -   52s\n",
      "     0     0 -104467.39    0  263 -106681.40 -104467.39  2.08%     -   53s\n",
      "     0     0 -104500.70    0  365 -106681.40 -104500.70  2.04%     -   54s\n",
      "     0     0 -104503.28    0  380 -106681.40 -104503.28  2.04%     -   55s\n",
      "     0     0 -104505.34    0  234 -106681.40 -104505.34  2.04%     -   56s\n",
      "     0     0 -104512.14    0  301 -106681.40 -104512.14  2.03%     -   58s\n",
      "H    0     0                    -105594.1435 -104512.14  1.02%     -   58s\n",
      "     0     0 -104512.45    0  301 -105594.14 -104512.45  1.02%     -   59s\n",
      "     0     0 -104523.07    0  393 -105594.14 -104523.07  1.01%     -   60s\n",
      "     0     0 -104525.28    0  411 -105594.14 -104525.28  1.01%     -   62s\n",
      "     0     0 -104526.63    0  425 -105594.14 -104526.63  1.01%     -   63s\n",
      "     0     0 -104535.58    0  426 -105594.14 -104535.58  1.00%     -   65s\n",
      "     0     0 -104536.90    0  425 -105594.14 -104536.90  1.00%     -   67s\n",
      "     0     0 -104546.45    0  389 -105594.14 -104546.45  0.99%     -   70s\n",
      "     0     0 -104548.03    0  403 -105594.14 -104548.03  0.99%     -   71s\n",
      "     0     0 -104549.43    0  414 -105594.14 -104549.43  0.99%     -   73s\n",
      "     0     0 -104549.88    0  376 -105594.14 -104549.88  0.99%     -   74s\n",
      "     0     0 -104550.86    0  338 -105594.14 -104550.86  0.99%     -   76s\n",
      "     0     0 -104550.91    0  403 -105594.14 -104550.91  0.99%     -   77s\n",
      "     0     0 -104552.89    0  227 -105594.14 -104552.89  0.99%     -   78s\n",
      "H    0     0                    -105572.1002 -104552.89  0.97%     -   78s\n",
      "     0     0 -104553.39    0  380 -105572.10 -104553.39  0.96%     -   79s\n",
      "     0     0 -104553.80    0  365 -105572.10 -104553.80  0.96%     -   81s\n",
      "     0     0 -104554.35    0  366 -105572.10 -104554.35  0.96%     -   82s\n",
      "     0     0 -104554.35    0  364 -105572.10 -104554.35  0.96%     -   84s\n",
      "     0     2 -104554.35    0  364 -105572.10 -104554.35  0.96%     -   84s\n",
      "     1     4 -104559.72    1  366 -105572.10 -104556.42  0.96%  46.0   85s\n",
      "    88    71 -105135.80   28  166 -105572.10 -104571.20  0.95%   157   90s\n",
      "*  183   150              75    -105465.2831 -104571.20  0.85%   117   93s\n",
      "   237   189 -104893.08    9  124 -105465.28 -104639.28  0.78%   114   95s\n",
      "*  319   220             102    -105399.7729 -104639.28  0.72%   103   96s\n",
      "   517   331 -104858.34   11  260 -105399.77 -104671.36  0.69%  92.7  100s\n",
      "H  724   374                    -105290.3516 -104738.12  0.52%  92.6  104s\n",
      "   725   375 -104982.74   10  364 -105290.35 -104738.12  0.52%  92.5  107s\n"
     ]
    },
    {
     "name": "stdout",
     "output_type": "stream",
     "text": [
      "   733   380 -104779.39   16  269 -105290.35 -104738.12  0.52%  91.4  110s\n",
      "H  741   366                    -105278.2311 -104738.12  0.51%  90.5  115s\n",
      "   748   370 -105140.09   22  394 -105278.23 -104738.12  0.51%  89.6  120s\n",
      "   752   373 -105271.59   33  416 -105278.23 -104738.12  0.51%  89.1  127s\n",
      "   755   378 -104738.12   10  402 -105278.23 -104738.12  0.51%  95.3  131s\n",
      "   771   380 -104818.88   14  359 -105278.23 -104738.12  0.51%   101  135s\n",
      "H  837   378                    -105226.5119 -104816.72  0.39%   106  139s\n",
      "   839   378 -105074.28   26  254 -105226.51 -104816.72  0.39%   107  140s\n",
      "   968   382     cutoff   21      -105226.51 -104842.10  0.37%   110  145s\n",
      "  1183   381 -105097.33   26  259 -105226.51 -104929.66  0.28%   110  150s\n",
      "  1512   359 -105062.08   19  206 -105226.51 -105007.11  0.21%   105  155s\n",
      "  1779   324     cutoff   23      -105226.51 -105040.09  0.18%   102  160s\n",
      "  2027   357 -105168.40   32  313 -105226.51 -105058.98  0.16%  97.8  165s\n",
      "  2439   412     cutoff   49      -105226.51 -105089.47  0.13%  93.9  170s\n",
      "  2855   455     cutoff   22      -105226.51 -105112.18  0.11%  90.7  175s\n",
      "  3438   398 -105208.33   19  230 -105226.51 -105140.60  0.08%  87.1  180s\n",
      "  4001   191 -105209.26   32  183 -105226.51 -105181.23  0.04%  82.8  185s\n",
      "\n",
      "Cutting planes:\n",
      "  User: 165\n",
      "  Gomory: 4\n",
      "  Cover: 1\n",
      "  Flow cover: 22\n",
      "  Zero half: 44\n",
      "  Lazy constraints: 8\n",
      "\n",
      "Explored 4380 nodes (354387 simplex iterations) in 186.81 seconds\n",
      "Thread count was 4 (of 4 available processors)\n",
      "\n",
      "Solution count 1: -105227 \n",
      "\n",
      "Optimal solution found (tolerance 0.00e+00)\n",
      "Best objective -1.052265119168e+05, best bound -1.052265119168e+05, gap 0.0000%\n",
      "Parameter SolutionNumber unchanged\n",
      "   Value: 0  Min: 0  Max: 2000000000  Default: 0\n",
      "**********\n",
      "BN has score -105226.51191678016\n",
      "**********\n",
      "ANAPHYLAXIS<-TPR -471.48556937259855\n",
      "TPR<- -10901.914716929197\n",
      "ARTCO2<-VENTALV -1816.018107669981\n",
      "VENTALV<-INTUBATION,VENTLUNG -1785.1568955858966\n",
      "BP<-CO,TPR -4927.804606748883\n",
      "CO<-HR,STROKEVOLUME -2678.9117199075263\n",
      "CATECHOL<-ARTCO2,TPR -1521.3018734225625\n",
      "HR<-CATECHOL -3744.599767304855\n",
      "STROKEVOLUME<-HYPOVOLEMIA,LVFAILURE -4437.288938131533\n",
      "CVP<-LVEDVOLUME -3006.6153021322098\n",
      "LVEDVOLUME<-HYPOVOLEMIA,LVFAILURE -3613.5057310384145\n",
      "DISCONNECT<- -3295.0317430806754\n",
      "ERRCAUTER<- -3222.576822231058\n",
      "ERRLOWOUTPUT<- -1972.2788189759885\n",
      "EXPCO2<-ARTCO2,VENTLUNG -1772.6591272249061\n",
      "VENTLUNG<-INTUBATION,KINKEDTUBE,VENTTUBE -3618.0085247885145\n",
      "FIO2<- -1888.6286705336533\n",
      "HISTORY<- -2091.7769199432223\n",
      "HRBP<-ERRLOWOUTPUT,HR -1331.6218853034952\n",
      "HREKG<-ERRCAUTER,HR -1507.9736736634077\n",
      "HRSAT<-ERRCAUTER,HR -1452.085102920726\n",
      "HYPOVOLEMIA<- -4990.780506105162\n",
      "INSUFFANESTH<- -3303.7325344726705\n",
      "INTUBATION<- -3428.3602719444025\n",
      "KINKEDTUBE<- -1558.2831144287484\n",
      "LVFAILURE<-HISTORY -556.2566040066595\n",
      "MINVOL<-INTUBATION,VENTLUNG -2061.9057414227136\n",
      "MINVOLSET<-VENTMACH -946.5564916227886\n",
      "VENTMACH<- -6169.083417643342\n",
      "PAP<-PULMEMBOLUS -4008.254809145714\n",
      "PULMEMBOLUS<- -583.1474353126687\n",
      "PCWP<-LVEDVOLUME -2233.68753796065\n",
      "PRESS<-INTUBATION,KINKEDTUBE,VENTTUBE -8478.131859909445\n",
      "VENTTUBE<-DISCONNECT,VENTMACH -1814.1386675404647\n",
      "PVSAT<-FIO2,VENTALV -846.3768118197768\n",
      "SAO2<-PVSAT,SHUNT -1137.5909747223777\n",
      "SHUNT<-INTUBATION,PULMEMBOLUS -2052.9806218132726\n",
      "**********\n",
      "bnlearn modelstring = \n",
      "[ANAPHYLAXIS|TPR][TPR][ARTCO2|VENTALV][VENTALV|VENTLUNG:INTUBATION][BP|TPR:CO][CO|HR:STROKEVOLUME][CATECHOL|TPR:ARTCO2][HR|CATECHOL][STROKEVOLUME|HYPOVOLEMIA:LVFAILURE][CVP|LVEDVOLUME][LVEDVOLUME|HYPOVOLEMIA:LVFAILURE][DISCONNECT][ERRCAUTER][ERRLOWOUTPUT][EXPCO2|VENTLUNG:ARTCO2][VENTLUNG|KINKEDTUBE:INTUBATION:VENTTUBE][FIO2][HISTORY][HRBP|ERRLOWOUTPUT:HR][HREKG|ERRCAUTER:HR][HRSAT|ERRCAUTER:HR][HYPOVOLEMIA][INSUFFANESTH][INTUBATION][KINKEDTUBE][LVFAILURE|HISTORY][MINVOL|VENTLUNG:INTUBATION][MINVOLSET|VENTMACH][VENTMACH][PAP|PULMEMBOLUS][PULMEMBOLUS][PCWP|LVEDVOLUME][PRESS|KINKEDTUBE:INTUBATION:VENTTUBE][VENTTUBE|VENTMACH:DISCONNECT][PVSAT|VENTALV:FIO2][SAO2|SHUNT:PVSAT][SHUNT|PULMEMBOLUS:INTUBATION]\n",
      "**********\n",
      "CPDAG:\n",
      "Vertices: ANAPHYLAXIS,TPR,ARTCO2,VENTALV,BP,CO,CATECHOL,HR,STROKEVOLUME,CVP,LVEDVOLUME,DISCONNECT,ERRCAUTER,ERRLOWOUTPUT,EXPCO2,VENTLUNG,FIO2,HISTORY,HRBP,HREKG,HRSAT,HYPOVOLEMIA,INSUFFANESTH,INTUBATION,KINKEDTUBE,LVFAILURE,MINVOL,MINVOLSET,VENTMACH,PAP,PULMEMBOLUS,PCWP,PRESS,VENTTUBE,PVSAT,SAO2,SHUNT\n",
      "TPR-ANAPHYLAXIS\n",
      "TPR->BP\n",
      "TPR->CATECHOL\n",
      "ARTCO2->CATECHOL\n",
      "ARTCO2->EXPCO2\n",
      "VENTALV->ARTCO2\n",
      "VENTALV->PVSAT\n",
      "CO->BP\n",
      "CATECHOL->HR\n",
      "HR->CO\n",
      "HR->HRBP\n",
      "HR->HREKG\n",
      "HR->HRSAT\n",
      "STROKEVOLUME->CO\n",
      "LVEDVOLUME->CVP\n",
      "LVEDVOLUME->PCWP\n",
      "DISCONNECT->VENTTUBE\n",
      "ERRCAUTER->HREKG\n",
      "ERRCAUTER->HRSAT\n",
      "ERRLOWOUTPUT->HRBP\n",
      "VENTLUNG->EXPCO2\n",
      "VENTLUNG->MINVOL\n",
      "VENTLUNG->VENTALV\n",
      "FIO2->PVSAT\n",
      "HISTORY-LVFAILURE\n",
      "HYPOVOLEMIA->LVEDVOLUME\n",
      "HYPOVOLEMIA->STROKEVOLUME\n",
      "INTUBATION-MINVOL\n",
      "INTUBATION->PRESS\n",
      "INTUBATION->SHUNT\n",
      "INTUBATION-VENTALV\n",
      "INTUBATION->VENTLUNG\n",
      "KINKEDTUBE->PRESS\n",
      "KINKEDTUBE->VENTLUNG\n",
      "LVFAILURE->LVEDVOLUME\n",
      "LVFAILURE->STROKEVOLUME\n",
      "VENTMACH-MINVOLSET\n",
      "VENTMACH->VENTTUBE\n",
      "PULMEMBOLUS-PAP\n",
      "PULMEMBOLUS->SHUNT\n",
      "VENTTUBE->PRESS\n",
      "VENTTUBE->VENTLUNG\n",
      "PVSAT->SAO2\n",
      "SHUNT->SAO2\n",
      "\n"
     ]
    },
    {
     "data": {
      "image/png": "[encoded data removed]",
      "text/plain": [
       "<Figure size 432x288 with 1 Axes>"
      ]
     },
     "metadata": {},
     "output_type": "display_data"
    }
   ],
   "source": [
    "m2 = Gobnilp(gurobi_output=True)\n",
    "m2.learn('alarm_10000.dat')"
   ]
  },
  {
   "cell_type": "markdown",
   "metadata": {},
   "source": [
    "Without the independence constraint solving takes 190 seconds (as opposed to 321 seconds), even though the set of allowed BNs is greater without the constraint. This is basically because Gobnilp is optimised for the case where the only constraint is that the BN is acyclic. \n",
    "\n",
    "The number of \"Lazy constraints\" posted in the two runs is worth examining: without the constraint there are only 8 but with the independence constraint there are 1153. This is because Gobnilp is adding constraints ruling out BNs (strictly speaking ancestral subgraphs of BNs) which do not satisfy the independence constraint. This is a crude method of enforcing (conditional) independence constraints and this adds to the slowness of solving."
   ]
  }
 ],
 "metadata": {
  "kernelspec": {
   "display_name": "Python 3",
   "language": "python",
   "name": "python3"
  },
  "language_info": {
   "codemirror_mode": {
    "name": "ipython",
    "version": 3
   },
   "file_extension": ".py",
   "mimetype": "text/x-python",
   "name": "python",
   "nbconvert_exporter": "python",
   "pygments_lexer": "ipython3",
   "version": "3.6.9"
  }
 },
 "nbformat": 4,
 "nbformat_minor": 2
}
