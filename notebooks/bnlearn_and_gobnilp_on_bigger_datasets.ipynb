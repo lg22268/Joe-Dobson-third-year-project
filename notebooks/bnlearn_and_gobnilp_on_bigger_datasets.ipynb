{
 "cells": [
  {
   "cell_type": "markdown",
   "metadata": {},
   "source": [
    "In this notebook we will compare bnlearn's hillclimbing algorithm and tabu algorithm against Gobnilp. We'll do this with default settings and BIC scoring. First let's use bnlearn's hill-climbing algorithm to learn from its built-in alarm dataset."
   ]
  },
  {
   "cell_type": "code",
   "execution_count": 1,
   "metadata": {},
   "outputs": [
    {
     "name": "stderr",
     "output_type": "stream",
     "text": [
      "\n",
      "Attaching package: ‘bnlearn’\n",
      "\n",
      "The following object is masked from ‘package:stats’:\n",
      "\n",
      "    sigma\n",
      "\n"
     ]
    },
    {
     "data": {
      "text/plain": [
       "\n",
       "  Bayesian network learned via Score-based methods\n",
       "\n",
       "  model:\n",
       "   [HIST][HRBP][PAP][FIO2][ANES][ERCA][LVF|HIST][PMB|PAP][ERLO|HRBP][PCWP|LVF]\n",
       "   [HR|HRBP:ERLO][HREK|HR:ERCA][HRSA|HR:ERCA][LVV|PCWP:LVF][CCHL|HR][CVP|LVV]\n",
       "   [MINV|CCHL][STKV|LVF:LVV][CO|STKV:HR][HYP|LVV:STKV][VALV|MINV][INT|MINV:VALV]\n",
       "   [PVS|FIO2:VALV][ACO2|CCHL:VALV][PRSS|INT:VALV][SHNT|PMB:INT]\n",
       "   [VLNG|MINV:INT:VALV][SAO2|SHNT:PVS][ECO2|ACO2:VLNG][KINK|PRSS:VLNG]\n",
       "   [VTUB|PRSS:MINV:INT][TPR|SAO2:CCHL][DISC|VTUB][BP|TPR:CO][APL|TPR]\n",
       "   [VMCH|DISC:VTUB][MVS|VMCH]\n",
       "  nodes:                                 37 \n",
       "  arcs:                                  53 \n",
       "    undirected arcs:                     0 \n",
       "    directed arcs:                       53 \n",
       "  average markov blanket size:           3.46 \n",
       "  average neighbourhood size:            2.86 \n",
       "  average branching factor:              1.43 \n",
       "\n",
       "  learning algorithm:                    Hill-Climbing \n",
       "  score:                                 BIC (disc.) \n",
       "  penalization coefficient:              4.951744 \n",
       "  tests used in the learning procedure:  2718 \n",
       "  optimized:                             TRUE \n"
      ]
     },
     "metadata": {},
     "output_type": "display_data"
    },
    {
     "data": {
      "text/html": [
       "-220761.687712649"
      ],
      "text/latex": [
       "-220761.687712649"
      ],
      "text/markdown": [
       "-220761.687712649"
      ],
      "text/plain": [
       "[1] -220761.7"
      ]
     },
     "metadata": {},
     "output_type": "display_data"
    }
   ],
   "source": [
    "library(bnlearn)\n",
    "data(alarm)\n",
    "alarmhc.bn <- hc(alarm)\n",
    "alarmhc.bn\n",
    "score(alarmhc.bn,alarm,type=\"bic\")"
   ]
  },
  {
   "cell_type": "markdown",
   "metadata": {},
   "source": [
    "OK, so hill-climbing has quickly found a BN with BIC score of -220761.687712649. Let's see how tabu search does."
   ]
  },
  {
   "cell_type": "code",
   "execution_count": 2,
   "metadata": {},
   "outputs": [
    {
     "data": {
      "text/plain": [
       "\n",
       "  Bayesian network learned via Score-based methods\n",
       "\n",
       "  model:\n",
       "   [PAP][FIO2][LVF][ANES][ERLO][HR][ERCA][HIST|LVF][HRBP|ERLO:HR][HREK|HR:ERCA]\n",
       "   [HRSA|HR:ERCA][PMB|PAP][LVV|LVF][CCHL|HR][CVP|LVV][PCWP|LVV][MINV|CCHL]\n",
       "   [STKV|LVF:LVV][CO|STKV:HR][HYP|LVV:STKV][VALV|MINV][INT|MINV:VALV]\n",
       "   [PVS|FIO2:VALV][ACO2|CCHL:VALV][PRSS|INT:VALV][SHNT|PMB:INT]\n",
       "   [VLNG|MINV:INT:VALV][SAO2|SHNT:PVS][ECO2|ACO2:VLNG][KINK|PRSS:VLNG]\n",
       "   [VTUB|PRSS:MINV:INT][TPR|SAO2:CCHL][DISC|VTUB][BP|TPR:CO][APL|TPR]\n",
       "   [VMCH|DISC:VTUB][MVS|VMCH]\n",
       "  nodes:                                 37 \n",
       "  arcs:                                  51 \n",
       "    undirected arcs:                     0 \n",
       "    directed arcs:                       51 \n",
       "  average markov blanket size:           3.41 \n",
       "  average neighbourhood size:            2.76 \n",
       "  average branching factor:              1.38 \n",
       "\n",
       "  learning algorithm:                    Tabu Search \n",
       "  score:                                 BIC (disc.) \n",
       "  penalization coefficient:              4.951744 \n",
       "  tests used in the learning procedure:  3759 \n",
       "  optimized:                             TRUE \n"
      ]
     },
     "metadata": {},
     "output_type": "display_data"
    },
    {
     "data": {
      "text/html": [
       "-220727.331509064"
      ],
      "text/latex": [
       "-220727.331509064"
      ],
      "text/markdown": [
       "-220727.331509064"
      ],
      "text/plain": [
       "[1] -220727.3"
      ]
     },
     "metadata": {},
     "output_type": "display_data"
    }
   ],
   "source": [
    "alarmtabu.bn <- tabu(alarm)\n",
    "alarmtabu.bn\n",
    "score(alarmtabu.bn,alarm,type=\"bic\")"
   ]
  },
  {
   "cell_type": "markdown",
   "metadata": {},
   "source": [
    "Tabu search is also very quick and finds a slightly better network with a score of -220727.331509064.\n",
    "\n",
    "Now let's see how Gobnilp does on the same data."
   ]
  },
  {
   "cell_type": "code",
   "execution_count": 3,
   "metadata": {},
   "outputs": [
    {
     "data": {
      "text/plain": [
       "**********\n",
       "BN has score -218632.30999687716\n",
       "**********\n",
       "ACO2<-CCHL,VALV -7365.911141511497\n",
       "CCHL<-SAO2,TPR -5079.249250888842\n",
       "VALV<-INT,VLNG -3656.802744212182\n",
       "ANES<- -6708.582939203498\n",
       "APL<-TPR -920.8316095318736\n",
       "TPR<- -21814.99513188178\n",
       "BP<-CO,TPR -10757.751590048358\n",
       "CO<-HR,STKV -5340.866593873166\n",
       "SAO2<-PVS,SHNT -2469.044793071095\n",
       "STKV<-HYP,LVF -9121.293128875895\n",
       "HR<-CCHL -7361.101683937812\n",
       "CVP<-LVV -6151.495470079892\n",
       "LVV<-HYP,LVF -7523.033824999752\n",
       "DISC<- -6447.082832428477\n",
       "ECO2<-ACO2,VLNG -3540.0482171325107\n",
       "VLNG<-INT,VTUB -7559.536030079051\n",
       "ERCA<- -6480.204445349012\n",
       "ERLO<- -3981.143384717203\n",
       "FIO2<- -4007.5819752605926\n",
       "HIST<- -4238.961962826263\n",
       "HRBP<-ERLO,HR -2822.4332565574773\n",
       "HREK<-ERCA,HR -3136.7392147761648\n",
       "HRSA<-ERCA,HR -3236.13944426857\n",
       "HYP<-APL -10075.035674773591\n",
       "INT<- -6658.474123732306\n",
       "KINK<-VLNG,VTUB -2857.4047588872477\n",
       "VTUB<-DISC,VMCH -3418.0624644648697\n",
       "LVF<-HIST -1195.1534680970262\n",
       "MINV<-INT,VLNG -3909.1413764771555\n",
       "MVS<- -8115.930179708216\n",
       "PAP<-PMB -7991.586300445202\n",
       "PMB<- -1147.8954131765825\n",
       "PCWP<-LVV -4417.15241305979\n",
       "PRSS<-INT,KINK,VTUB -17104.845843232186\n",
       "PVS<-FIO2,VALV -1881.461320156674\n",
       "SHNT<-INT,PMB -3967.7868777541385\n",
       "VMCH<-MVS -6171.554800172482\n",
       "**********\n",
       "bnlearn modelstring = \n",
       "[ACO2|CCHL:VALV][CCHL|SAO2:TPR][VALV|VLNG:INT][ANES][APL|TPR][TPR][BP|TPR:CO][CO|STKV:HR][SAO2|SHNT:PVS][STKV|HYP:LVF][HR|CCHL][CVP|LVV][LVV|HYP:LVF][DISC][ECO2|ACO2:VLNG][VLNG|VTUB:INT][ERCA][ERLO][FIO2][HIST][HRBP|HR:ERLO][HREK|HR:ERCA][HRSA|HR:ERCA][HYP|APL][INT][KINK|VTUB:VLNG][VTUB|DISC:VMCH][LVF|HIST][MINV|VLNG:INT][MVS][PAP|PMB][PMB][PCWP|LVV][PRSS|KINK:VTUB:INT][PVS|FIO2:VALV][SHNT|PMB:INT][VMCH|MVS]"
      ]
     },
     "metadata": {},
     "output_type": "display_data"
    }
   ],
   "source": [
    "library(reticulate)\n",
    "m <- import(\"pygobnilp.gobnilp\")$Gobnilp()\n",
    "m$learn(alarm,plot=FALSE,local_score_type='BIC')\n",
    "m$learned_bn"
   ]
  },
  {
   "cell_type": "markdown",
   "metadata": {},
   "source": [
    "Gobnilp is a lot slower, but on the other hand, the learned BN has a much better BIC score of -218632.30999687716. Note that Gobnilp is being run here with its default limit of at most 3 parents for any node. It could be that an even higher-scoring network exists where some nodes have more than 3 parents.\n",
    "\n",
    "We can get bnlearn to score the network learned by Gobnilp to check that we get the same BIC score."
   ]
  },
  {
   "cell_type": "code",
   "execution_count": 4,
   "metadata": {},
   "outputs": [
    {
     "data": {
      "text/html": [
       "-218632.315679648"
      ],
      "text/latex": [
       "-218632.315679648"
      ],
      "text/markdown": [
       "-218632.315679648"
      ],
      "text/plain": [
       "[1] -218632.3"
      ]
     },
     "metadata": {},
     "output_type": "display_data"
    }
   ],
   "source": [
    "score(model2network(m$learned_bn$bnlearn_modelstring()),alarm,type=\"bic\")"
   ]
  },
  {
   "cell_type": "markdown",
   "metadata": {},
   "source": [
    "Sure enough we get the same score (modulo some numerical imprecision). Now let's run the same experiment with bnlearn's built-in hailfinder dataset"
   ]
  },
  {
   "cell_type": "code",
   "execution_count": 5,
   "metadata": {},
   "outputs": [
    {
     "data": {
      "text/plain": [
       "\n",
       "  Bayesian network learned via Score-based methods\n",
       "\n",
       "  model:\n",
       "   [N07muVerMo][SubjVertMo][QGVertMotion][SatContMoist][RaoContMoist]\n",
       "   [VISCloudCov][IRCloudCover][AMInstabMt][WndHodograph][MorningBound]\n",
       "   [LoLevMoistAd][Date][MorningCIN][LIfr12ZDENSd][AMDewptCalPl][LatestCIN][LLIW]\n",
       "   [CombVerMo|N07muVerMo:SubjVertMo:QGVertMotion]\n",
       "   [CombMoisture|SatContMoist:RaoContMoist][CombClouds|VISCloudCov:IRCloudCover]\n",
       "   [Scenario|Date][CurPropConv|LatestCIN:LLIW][AreaMesoALS|CombVerMo]\n",
       "   [AreaMoDryAir|CombVerMo:CombMoisture][ScenRelAMCIN|Scenario]\n",
       "   [ScenRelAMIns|Scenario][ScenRel34|Scenario][ScnRelPlFcst|Scenario]\n",
       "   [Dewpoints|Scenario][LowLLapse|Scenario][MeanRH|Scenario][MidLLapse|Scenario]\n",
       "   [MvmtFeatures|Scenario][RHRatio|Scenario][SfcWndShfDis|Scenario]\n",
       "   [SynForcng|Scenario][TempDis|Scenario][WindAloft|Scenario]\n",
       "   [WindFieldMt|Scenario][WindFieldPln|Scenario]\n",
       "   [CldShadeOth|CombVerMo:AreaMoDryAir:CombClouds]\n",
       "   [AMCINInScen|ScenRelAMCIN:MorningCIN]\n",
       "   [AMInsWliScen|ScenRelAMIns:LIfr12ZDENSd:AMDewptCalPl]\n",
       "   [InsInMt|CldShadeOth:AMInstabMt][OutflowFrMt|InsInMt:WndHodograph]\n",
       "   [CldShadeConv|InsInMt:WndHodograph][MountainFcst|InsInMt]\n",
       "   [Boundaries|WndHodograph:OutflowFrMt:MorningBound]\n",
       "   [CompPlFcst|CombVerMo:CldShadeOth:CldShadeConv][CapChange|CompPlFcst]\n",
       "   [InsChange|CompPlFcst:LoLevMoistAd][CapInScen|CompPlFcst:AMCINInScen]\n",
       "   [InsSclInScen|InsChange:AMInsWliScen]\n",
       "   [PlainsFcst|ScenRelAMCIN:InsSclInScen:CurPropConv]\n",
       "   [N34StarFcst|ScenRel34:PlainsFcst][R5Fcst|MountainFcst:N34StarFcst]\n",
       "  nodes:                                 56 \n",
       "  arcs:                                  64 \n",
       "    undirected arcs:                     0 \n",
       "    directed arcs:                       64 \n",
       "  average markov blanket size:           3.25 \n",
       "  average neighbourhood size:            2.29 \n",
       "  average branching factor:              1.14 \n",
       "\n",
       "  learning algorithm:                    Hill-Climbing \n",
       "  score:                                 BIC (disc.) \n",
       "  penalization coefficient:              4.951744 \n",
       "  tests used in the learning procedure:  5060 \n",
       "  optimized:                             TRUE \n"
      ]
     },
     "metadata": {},
     "output_type": "display_data"
    },
    {
     "data": {
      "text/html": [
       "-990474.753096428"
      ],
      "text/latex": [
       "-990474.753096428"
      ],
      "text/markdown": [
       "-990474.753096428"
      ],
      "text/plain": [
       "[1] -990474.8"
      ]
     },
     "metadata": {},
     "output_type": "display_data"
    },
    {
     "data": {
      "text/plain": [
       "\n",
       "  Bayesian network learned via Score-based methods\n",
       "\n",
       "  model:\n",
       "   [N07muVerMo][SubjVertMo][QGVertMotion][SatContMoist][RaoContMoist]\n",
       "   [VISCloudCov][IRCloudCover][AMInstabMt][WndHodograph][MorningBound]\n",
       "   [LoLevMoistAd][Date][MorningCIN][LIfr12ZDENSd][AMDewptCalPl][LatestCIN][LLIW]\n",
       "   [CombVerMo|N07muVerMo:SubjVertMo:QGVertMotion]\n",
       "   [CombMoisture|SatContMoist:RaoContMoist][CombClouds|VISCloudCov:IRCloudCover]\n",
       "   [Scenario|Date][CurPropConv|LatestCIN:LLIW][AreaMesoALS|CombVerMo]\n",
       "   [AreaMoDryAir|CombVerMo:CombMoisture][ScenRelAMCIN|Scenario]\n",
       "   [ScenRelAMIns|Scenario][ScenRel34|Scenario][ScnRelPlFcst|Scenario]\n",
       "   [Dewpoints|Scenario][LowLLapse|Scenario][MeanRH|Scenario][MidLLapse|Scenario]\n",
       "   [MvmtFeatures|Scenario][RHRatio|Scenario][SfcWndShfDis|Scenario]\n",
       "   [SynForcng|Scenario][TempDis|Scenario][WindAloft|Scenario]\n",
       "   [WindFieldMt|Scenario][WindFieldPln|Scenario]\n",
       "   [CldShadeOth|CombVerMo:AreaMoDryAir:CombClouds]\n",
       "   [AMCINInScen|ScenRelAMCIN:MorningCIN]\n",
       "   [AMInsWliScen|ScenRelAMIns:LIfr12ZDENSd:AMDewptCalPl]\n",
       "   [InsInMt|CldShadeOth:AMInstabMt][OutflowFrMt|InsInMt:WndHodograph]\n",
       "   [CldShadeConv|InsInMt:WndHodograph][MountainFcst|InsInMt]\n",
       "   [Boundaries|WndHodograph:OutflowFrMt:MorningBound]\n",
       "   [CompPlFcst|CombVerMo:CldShadeOth:CldShadeConv][CapChange|CompPlFcst]\n",
       "   [InsChange|CompPlFcst:LoLevMoistAd][CapInScen|CompPlFcst:AMCINInScen]\n",
       "   [InsSclInScen|InsChange:AMInsWliScen]\n",
       "   [PlainsFcst|ScenRelAMCIN:InsSclInScen:CurPropConv]\n",
       "   [N34StarFcst|ScenRel34:PlainsFcst][R5Fcst|MountainFcst:N34StarFcst]\n",
       "  nodes:                                 56 \n",
       "  arcs:                                  64 \n",
       "    undirected arcs:                     0 \n",
       "    directed arcs:                       64 \n",
       "  average markov blanket size:           3.25 \n",
       "  average neighbourhood size:            2.29 \n",
       "  average branching factor:              1.14 \n",
       "\n",
       "  learning algorithm:                    Tabu Search \n",
       "  score:                                 BIC (disc.) \n",
       "  penalization coefficient:              4.951744 \n",
       "  tests used in the learning procedure:  6014 \n",
       "  optimized:                             TRUE \n"
      ]
     },
     "metadata": {},
     "output_type": "display_data"
    },
    {
     "data": {
      "text/html": [
       "-990474.753096428"
      ],
      "text/latex": [
       "-990474.753096428"
      ],
      "text/markdown": [
       "-990474.753096428"
      ],
      "text/plain": [
       "[1] -990474.8"
      ]
     },
     "metadata": {},
     "output_type": "display_data"
    },
    {
     "data": {
      "text/plain": [
       "**********\n",
       "BN has score -990162.80504007\n",
       "**********\n",
       "AMCINInScen<-MorningCIN,ScenRelAMCIN -14827.804016810533\n",
       "ScenRelAMCIN<-ScnRelPlFcst -54.4691815389487\n",
       "MorningCIN<- -22451.662191092444\n",
       "AMDewptCalPl<- -21401.356146585404\n",
       "AMInsWliScen<-AMDewptCalPl,ScenRelAMIns -19662.46130603437\n",
       "ScenRelAMIns<-ScnRelPlFcst -272.3459076947435\n",
       "AMInstabMt<- -21979.829675807607\n",
       "AreaMesoALS<-CombVerMo -59.42092531521676\n",
       "CombVerMo<-N07muVerMo,QGVertMotion,SubjVertMo -16140.954285953674\n",
       "AreaMoDryAir<-AreaMesoALS,CombMoisture -15243.049284360615\n",
       "CombMoisture<-RaoContMoist,SatContMoist -22201.12301415751\n",
       "Boundaries<-MorningBound,OutflowFrMt,WndHodograph -15464.935101862524\n",
       "OutflowFrMt<-InsInMt,WndHodograph -12684.806287718651\n",
       "MorningBound<- -19880.990986381017\n",
       "WndHodograph<- -27534.501610060397\n",
       "CapChange<-CompPlFcst -29.71046265760838\n",
       "CompPlFcst<-CldShadeConv,CldShadeOth,CombVerMo -20195.30081667199\n",
       "CapInScen<-AMCINInScen,CapChange -8769.900372311302\n",
       "CldShadeConv<-InsInMt,WndHodograph -11930.685819990164\n",
       "InsInMt<-AMInstabMt,CldShadeOth -9186.457382838722\n",
       "CldShadeOth<-AreaMesoALS,AreaMoDryAir,CombClouds -10808.429735453848\n",
       "CombClouds<-IRCloudCover,VISCloudCov -12416.501183907261\n",
       "VISCloudCov<- -18807.3986119801\n",
       "IRCloudCover<- -20081.08728885022\n",
       "SatContMoist<- -26381.105022929794\n",
       "RaoContMoist<- -26451.36187705046\n",
       "QGVertMotion<- -24641.079933873705\n",
       "N07muVerMo<- -27740.002999058954\n",
       "SubjVertMo<- -24741.633744298222\n",
       "CurPropConv<-PlainsFcst -26471.809890620712\n",
       "PlainsFcst<-InsSclInScen,ScnRelPlFcst -17466.172736436816\n",
       "Date<-ScnRelPlFcst -33427.32867430927\n",
       "ScnRelPlFcst<-Scenario -544.691815389487\n",
       "Dewpoints<-Scenario -30495.957816711856\n",
       "Scenario<-WindFieldMt -43976.15779083476\n",
       "InsChange<-CapChange,LoLevMoistAd -15438.63271567674\n",
       "LoLevMoistAd<- -26697.01793281577\n",
       "InsSclInScen<-AMInsWliScen,InsChange -11294.899810438175\n",
       "LIfr12ZDENSd<-AMDewptCalPl,AMInsWliScen -21266.2279717069\n",
       "LLIW<-CurPropConv -21747.034006031623\n",
       "LatestCIN<-CurPropConv,LLIW -19532.950433050428\n",
       "LowLLapse<-Scenario -22799.692963671834\n",
       "MeanRH<-ScnRelPlFcst -16858.568195975295\n",
       "MidLLapse<-Scenario -18464.904348591688\n",
       "MountainFcst<-InsInMt -15270.69659773143\n",
       "MvmtFeatures<-Scenario -19160.848763138118\n",
       "N34StarFcst<-PlainsFcst,ScenRel34 -5277.188589205406\n",
       "ScenRel34<-ScnRelPlFcst -217.8767261557948\n",
       "R5Fcst<-MountainFcst,N34StarFcst -89.13138797282514\n",
       "RHRatio<-Scenario -16934.81649895904\n",
       "WindFieldMt<- -13845.133818871915\n",
       "SfcWndShfDis<-ScnRelPlFcst -28237.610801383213\n",
       "SynForcng<-Scenario -27008.483822264956\n",
       "TempDis<-Scenario -20415.645867981784\n",
       "WindAloft<-Scenario -19892.41952467435\n",
       "WindFieldPln<-Scenario -25290.54036622375\n",
       "**********\n",
       "bnlearn modelstring = \n",
       "[AMCINInScen|ScenRelAMCIN:MorningCIN][ScenRelAMCIN|ScnRelPlFcst][MorningCIN][AMDewptCalPl][AMInsWliScen|AMDewptCalPl:ScenRelAMIns][ScenRelAMIns|ScnRelPlFcst][AMInstabMt][AreaMesoALS|CombVerMo][CombVerMo|QGVertMotion:N07muVerMo:SubjVertMo][AreaMoDryAir|AreaMesoALS:CombMoisture][CombMoisture|SatContMoist:RaoContMoist][Boundaries|OutflowFrMt:MorningBound:WndHodograph][OutflowFrMt|InsInMt:WndHodograph][MorningBound][WndHodograph][CapChange|CompPlFcst][CompPlFcst|CombVerMo:CldShadeConv:CldShadeOth][CapInScen|AMCINInScen:CapChange][CldShadeConv|InsInMt:WndHodograph][InsInMt|CldShadeOth:AMInstabMt][CldShadeOth|AreaMoDryAir:AreaMesoALS:CombClouds][CombClouds|VISCloudCov:IRCloudCover][VISCloudCov][IRCloudCover][SatContMoist][RaoContMoist][QGVertMotion][N07muVerMo][SubjVertMo][CurPropConv|PlainsFcst][PlainsFcst|InsSclInScen:ScnRelPlFcst][Date|ScnRelPlFcst][ScnRelPlFcst|Scenario][Dewpoints|Scenario][Scenario|WindFieldMt][InsChange|LoLevMoistAd:CapChange][LoLevMoistAd][InsSclInScen|AMInsWliScen:InsChange][LIfr12ZDENSd|AMInsWliScen:AMDewptCalPl][LLIW|CurPropConv][LatestCIN|CurPropConv:LLIW][LowLLapse|Scenario][MeanRH|ScnRelPlFcst][MidLLapse|Scenario][MountainFcst|InsInMt][MvmtFeatures|Scenario][N34StarFcst|ScenRel34:PlainsFcst][ScenRel34|ScnRelPlFcst][R5Fcst|MountainFcst:N34StarFcst][RHRatio|Scenario][WindFieldMt][SfcWndShfDis|ScnRelPlFcst][SynForcng|Scenario][TempDis|Scenario][WindAloft|Scenario][WindFieldPln|Scenario]"
      ]
     },
     "metadata": {},
     "output_type": "display_data"
    },
    {
     "data": {
      "text/html": [
       "-990162.80504007"
      ],
      "text/latex": [
       "-990162.80504007"
      ],
      "text/markdown": [
       "-990162.80504007"
      ],
      "text/plain": [
       "[1] -990162.8"
      ]
     },
     "metadata": {},
     "output_type": "display_data"
    }
   ],
   "source": [
    "data(hailfinder)\n",
    "hailfinderhc.bn <- hc(hailfinder)\n",
    "hailfinderhc.bn\n",
    "score(hailfinderhc.bn,hailfinder,type=\"bic\")\n",
    "hailfindertabu.bn <- tabu(hailfinder)\n",
    "hailfindertabu.bn\n",
    "score(hailfindertabu.bn,hailfinder,type=\"bic\")\n",
    "m$learn(hailfinder,plot=FALSE,local_score_type='BIC')\n",
    "m$learned_bn\n",
    "score(model2network(m$learned_bn$bnlearn_modelstring()),hailfinder,type=\"bic\")"
   ]
  },
  {
   "cell_type": "markdown",
   "metadata": {},
   "source": [
    "Gobnilp takes a very long time to find a BN mainly due to this Python version of Gobnilp computing the necessary local scores slowly. The found BN has a BIC score of -990162.80504007 in contrast to -990474.753096428 BIC score achieved by hill-climbing and tabu.\n",
    "\n",
    "Finally, let's have a look at the Insurance dataset"
   ]
  },
  {
   "cell_type": "code",
   "execution_count": 6,
   "metadata": {},
   "outputs": [
    {
     "data": {
      "text/plain": [
       "\n",
       "  Bayesian network learned via Score-based methods\n",
       "\n",
       "  model:\n",
       "   [RuggedAuto][MakeModel|RuggedAuto][CarValue|RuggedAuto:MakeModel]\n",
       "   [Mileage|CarValue][VehicleYear|MakeModel:Mileage:CarValue]\n",
       "   [SocioEcon|VehicleYear:MakeModel][Antilock|VehicleYear:MakeModel]\n",
       "   [Airbag|VehicleYear:MakeModel][ThisCarDam|Mileage:Antilock]\n",
       "   [OtherCar|SocioEcon][Cushioning|RuggedAuto:Airbag]\n",
       "   [Accident|ThisCarDam:RuggedAuto][ThisCarCost|ThisCarDam:CarValue]\n",
       "   [MedCost|ThisCarDam:Cushioning][DrivQuality|Accident:Mileage]\n",
       "   [Theft|ThisCarDam:ThisCarCost][OtherCarCost|RuggedAuto:Accident]\n",
       "   [ILiCost|Accident][Age|SocioEcon:DrivQuality]\n",
       "   [PropCost|ThisCarCost:OtherCarCost][GoodStudent|Age:SocioEcon]\n",
       "   [SeniorTrain|Age:DrivQuality][RiskAversion|Age:DrivQuality:SeniorTrain]\n",
       "   [DrivingSkill|RiskAversion:DrivQuality][HomeBase|SocioEcon:RiskAversion]\n",
       "   [AntiTheft|SocioEcon:RiskAversion][DrivHist|RiskAversion:DrivingSkill]\n",
       "  nodes:                                 27 \n",
       "  arcs:                                  50 \n",
       "    undirected arcs:                     0 \n",
       "    directed arcs:                       50 \n",
       "  average markov blanket size:           4.44 \n",
       "  average neighbourhood size:            3.70 \n",
       "  average branching factor:              1.85 \n",
       "\n",
       "  learning algorithm:                    Hill-Climbing \n",
       "  score:                                 BIC (disc.) \n",
       "  penalization coefficient:              4.951744 \n",
       "  tests used in the learning procedure:  1755 \n",
       "  optimized:                             TRUE \n"
      ]
     },
     "metadata": {},
     "output_type": "display_data"
    },
    {
     "data": {
      "text/html": [
       "-266113.028472967"
      ],
      "text/latex": [
       "-266113.028472967"
      ],
      "text/markdown": [
       "-266113.028472967"
      ],
      "text/plain": [
       "[1] -266113"
      ]
     },
     "metadata": {},
     "output_type": "display_data"
    },
    {
     "data": {
      "text/plain": [
       "\n",
       "  Bayesian network learned via Score-based methods\n",
       "\n",
       "  model:\n",
       "   [MakeModel][CarValue|MakeModel][Mileage|CarValue]\n",
       "   [VehicleYear|MakeModel:Mileage:CarValue][SocioEcon|VehicleYear:MakeModel]\n",
       "   [RuggedAuto|VehicleYear:MakeModel][Antilock|VehicleYear:MakeModel]\n",
       "   [Airbag|VehicleYear:MakeModel][ThisCarDam|Mileage:Antilock]\n",
       "   [OtherCar|SocioEcon][Cushioning|RuggedAuto:Airbag]\n",
       "   [Accident|ThisCarDam:RuggedAuto][ThisCarCost|ThisCarDam:CarValue]\n",
       "   [MedCost|ThisCarDam:Cushioning][DrivQuality|Accident:Mileage]\n",
       "   [Theft|ThisCarDam:ThisCarCost][OtherCarCost|RuggedAuto:Accident]\n",
       "   [ILiCost|Accident][Age|SocioEcon:DrivQuality]\n",
       "   [PropCost|ThisCarCost:OtherCarCost][GoodStudent|Age:SocioEcon]\n",
       "   [SeniorTrain|Age:DrivQuality][RiskAversion|Age:DrivQuality:SeniorTrain]\n",
       "   [DrivingSkill|RiskAversion:DrivQuality][HomeBase|SocioEcon:RiskAversion]\n",
       "   [AntiTheft|SocioEcon:RiskAversion][DrivHist|RiskAversion:DrivingSkill]\n",
       "  nodes:                                 27 \n",
       "  arcs:                                  50 \n",
       "    undirected arcs:                     0 \n",
       "    directed arcs:                       50 \n",
       "  average markov blanket size:           4.44 \n",
       "  average neighbourhood size:            3.70 \n",
       "  average branching factor:              1.85 \n",
       "\n",
       "  learning algorithm:                    Tabu Search \n",
       "  score:                                 BIC (disc.) \n",
       "  penalization coefficient:              4.951744 \n",
       "  tests used in the learning procedure:  2405 \n",
       "  optimized:                             TRUE \n"
      ]
     },
     "metadata": {},
     "output_type": "display_data"
    },
    {
     "data": {
      "text/html": [
       "-265500.923940094"
      ],
      "text/latex": [
       "-265500.923940094"
      ],
      "text/markdown": [
       "-265500.923940094"
      ],
      "text/plain": [
       "[1] -265500.9"
      ]
     },
     "metadata": {},
     "output_type": "display_data"
    },
    {
     "data": {
      "text/plain": [
       "**********\n",
       "BN has score -264708.85975077713\n",
       "**********\n",
       "Accident<-Antilock,DrivQuality -12310.195471829664\n",
       "Antilock<-MakeModel,VehicleYear -3057.5537899833407\n",
       "DrivQuality<-DrivingSkill,RiskAversion -4890.437103938427\n",
       "Age<-RiskAversion,SocioEcon -17309.676907648834\n",
       "SocioEcon<-MakeModel -15401.201288104912\n",
       "RiskAversion<-SocioEcon -22043.400097873542\n",
       "Airbag<-MakeModel,VehicleYear -4426.614280155776\n",
       "MakeModel<- -25007.99981689388\n",
       "VehicleYear<-SocioEcon -10055.937028683156\n",
       "AntiTheft<-RiskAversion,SocioEcon -5427.903744351528\n",
       "CarValue<-MakeModel,Mileage,VehicleYear -11811.232170180529\n",
       "Mileage<-Accident,DrivQuality -23647.681978155444\n",
       "Cushioning<-Airbag,RuggedAuto -14785.84850529706\n",
       "RuggedAuto<-MakeModel,VehicleYear -12165.511166709071\n",
       "DrivHist<-DrivingSkill,RiskAversion -9560.920896777803\n",
       "DrivingSkill<-Age,SeniorTrain -17818.7405231424\n",
       "SeniorTrain<-Age,RiskAversion -1712.9733331992325\n",
       "GoodStudent<-Age,SocioEcon -1937.614966223779\n",
       "HomeBase<-RiskAversion,SocioEcon -14317.997554087886\n",
       "ILiCost<-Accident -2459.8973674972813\n",
       "MedCost<-Accident,Cushioning -3741.377927855128\n",
       "OtherCar<-SocioEcon -10846.634355680695\n",
       "OtherCarCost<-Accident,RuggedAuto -4190.3494826801425\n",
       "PropCost<-OtherCarCost,ThisCarCost -11581.00587567083\n",
       "ThisCarCost<-CarValue,ThisCarDam -1499.5192944885057\n",
       "Theft<-ThisCarCost,ThisCarDam -120.29650307184247\n",
       "ThisCarDam<-Accident,RuggedAuto -2580.3383205964424\n",
       "**********\n",
       "bnlearn modelstring = \n",
       "[Accident|Antilock:DrivQuality][Antilock|MakeModel:VehicleYear][DrivQuality|DrivingSkill:RiskAversion][Age|SocioEcon:RiskAversion][SocioEcon|MakeModel][RiskAversion|SocioEcon][Airbag|MakeModel:VehicleYear][MakeModel][VehicleYear|SocioEcon][AntiTheft|SocioEcon:RiskAversion][CarValue|MakeModel:VehicleYear:Mileage][Mileage|DrivQuality:Accident][Cushioning|Airbag:RuggedAuto][RuggedAuto|MakeModel:VehicleYear][DrivHist|DrivingSkill:RiskAversion][DrivingSkill|SeniorTrain:Age][SeniorTrain|Age:RiskAversion][GoodStudent|SocioEcon:Age][HomeBase|SocioEcon:RiskAversion][ILiCost|Accident][MedCost|Cushioning:Accident][OtherCar|SocioEcon][OtherCarCost|RuggedAuto:Accident][PropCost|OtherCarCost:ThisCarCost][ThisCarCost|ThisCarDam:CarValue][Theft|ThisCarDam:ThisCarCost][ThisCarDam|RuggedAuto:Accident]"
      ]
     },
     "metadata": {},
     "output_type": "display_data"
    },
    {
     "data": {
      "text/html": [
       "-264708.859750777"
      ],
      "text/latex": [
       "-264708.859750777"
      ],
      "text/markdown": [
       "-264708.859750777"
      ],
      "text/plain": [
       "[1] -264708.9"
      ]
     },
     "metadata": {},
     "output_type": "display_data"
    }
   ],
   "source": [
    "data(insurance)\n",
    "insurancehc.bn <- hc(insurance)\n",
    "insurancehc.bn\n",
    "score(insurancehc.bn,insurance,type=\"bic\")\n",
    "insurancetabu.bn <- tabu(insurance)\n",
    "insurancetabu.bn\n",
    "score(insurancetabu.bn,insurance,type=\"bic\")\n",
    "m$learn(insurance,plot=FALSE,local_score_type='BIC')\n",
    "m$learned_bn\n",
    "score(model2network(m$learned_bn$bnlearn_modelstring()),insurance,type=\"bic\")"
   ]
  },
  {
   "cell_type": "markdown",
   "metadata": {},
   "source": [
    "So hill-climbing finds a BN with BIC score -266113.028472967, tabu search manages -265500.923940094 and Gobnilp achieves -264708.85975077713. In this case Gobnilp was not too slow either (since Insurance only has 27 nodes and the default limit of at most 3 parents per node is in use.)"
   ]
  }
 ],
 "metadata": {
  "kernelspec": {
   "display_name": "R",
   "language": "R",
   "name": "ir"
  },
  "language_info": {
   "codemirror_mode": "r",
   "file_extension": ".r",
   "mimetype": "text/x-r-source",
   "name": "R",
   "pygments_lexer": "r",
   "version": "3.4.4"
  }
 },
 "nbformat": 4,
 "nbformat_minor": 2
}
